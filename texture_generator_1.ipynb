{
  "cells": [
    {
      "cell_type": "markdown",
      "metadata": {
        "id": "view-in-github",
        "colab_type": "text"
      },
      "source": [
        "<a href=\"https://colab.research.google.com/github/dctime/minecraft-texture-generation/blob/main/texture_generator_1.ipynb\" target=\"_parent\"><img src=\"https://colab.research.google.com/assets/colab-badge.svg\" alt=\"Open In Colab\"/></a>"
      ]
    },
    {
      "cell_type": "code",
      "source": [
        "#change id when next generation\n",
        "id = 2"
      ],
      "metadata": {
        "id": "pFEe7A5Z9y25"
      },
      "execution_count": 3,
      "outputs": []
    },
    {
      "cell_type": "code",
      "execution_count": 4,
      "metadata": {
        "id": "vlKAhtQ8Li2v"
      },
      "outputs": [],
      "source": [
        "try:\n",
        "  import shutil\n",
        "\n",
        "  shutil.rmtree(f'images_{id}')\n",
        "except:\n",
        "  pass\n",
        "\n",
        "import os\n",
        "# create new single directory\n",
        "os.mkdir(f'images_{id}')"
      ]
    },
    {
      "cell_type": "code",
      "execution_count": 5,
      "metadata": {
        "colab": {
          "base_uri": "https://localhost:8080/"
        },
        "id": "PpGZNhoSSliJ",
        "outputId": "e2bc7efa-81a7-4eee-d4fb-3d506b9951c0"
      },
      "outputs": [
        {
          "output_type": "stream",
          "name": "stdout",
          "text": [
            "no gpu\n"
          ]
        }
      ],
      "source": [
        "import tensorflow as tf\n",
        "try:\n",
        "  device_name = tf.test.gpu_device_name()\n",
        "  if device_name != '/device:GPU:0':\n",
        "    raise SystemError('GPU device not found')\n",
        "  print('Found GPU at: {}'.format(device_name))\n",
        "except:\n",
        "  print(\"no gpu\")"
      ]
    },
    {
      "cell_type": "code",
      "execution_count": 33,
      "metadata": {
        "id": "8VSFy1rwL-O2",
        "colab": {
          "base_uri": "https://localhost:8080/"
        },
        "outputId": "50f7d211-19f3-455e-e31f-3935a3dd2fbe"
      },
      "outputs": [
        {
          "output_type": "stream",
          "name": "stdout",
          "text": [
            "2.12.0\n",
            "Eager execution: True\n"
          ]
        }
      ],
      "source": [
        "import zipfile\n",
        "import os\n",
        "import tensorflow as tf\n",
        "import matplotlib.pyplot as plt\n",
        "import numpy as np\n",
        "import pandas as pd\n",
        "from tensorflow.keras.models import Sequential\n",
        "from tensorflow.keras.layers import Conv2D, Dense, Flatten, Reshape, LeakyReLU, Dropout, UpSampling2D\n",
        "from tensorflow.keras import Model\n",
        "from tensorflow.keras.losses import BinaryCrossentropy\n",
        "from tensorflow.keras.optimizers import Adam\n",
        "from tensorflow.keras.preprocessing.image import array_to_img\n",
        "from tensorflow.keras.callbacks import Callback\n",
        "import os\n",
        "from keras.models import load_model\n",
        "from tensorflow.keras.layers import MaxPooling2D\n",
        "np.set_printoptions(floatmode='fixed')\n",
        "tf.config.run_functions_eagerly(True)\n",
        "print(tf.__version__)\n",
        "print(\"Eager execution:\", tf.executing_eagerly())\n",
        "tf.data.experimental.enable_debug_mode()"
      ]
    },
    {
      "cell_type": "code",
      "source": [
        "from google.colab import drive\n",
        "drive.mount('/content/drive')"
      ],
      "metadata": {
        "colab": {
          "base_uri": "https://localhost:8080/"
        },
        "id": "asblZl0nFVTR",
        "outputId": "debec54f-f005-4c6c-c609-b397ad928352"
      },
      "execution_count": 80,
      "outputs": [
        {
          "output_type": "stream",
          "name": "stdout",
          "text": [
            "Drive already mounted at /content/drive; to attempt to forcibly remount, call drive.mount(\"/content/drive\", force_remount=True).\n"
          ]
        }
      ]
    },
    {
      "cell_type": "code",
      "execution_count": 81,
      "metadata": {
        "id": "qf-liyECL7vH"
      },
      "outputs": [],
      "source": [
        "with zipfile.ZipFile('drive/MyDrive/Minecraft Texture Generator/minecraft_texture_with_resized_16.zip', 'r') as zip_ref:\n",
        "    zip_ref.extractall('dataset')"
      ]
    },
    {
      "cell_type": "code",
      "execution_count": 82,
      "metadata": {
        "id": "-cU-OOGOMmnM"
      },
      "outputs": [],
      "source": [
        "# for filename in os.listdir('dataset/minecraft_texture_with_resize_16'):\n",
        "#     print(filename)"
      ]
    },
    {
      "cell_type": "code",
      "execution_count": 83,
      "metadata": {
        "colab": {
          "base_uri": "https://localhost:8080/"
        },
        "id": "WTLPWvTt0Ent",
        "outputId": "4245ac76-9b4c-4d42-e7c7-42d1b71a8d95"
      },
      "outputs": [
        {
          "output_type": "stream",
          "name": "stdout",
          "text": [
            "Found 39461 files belonging to 1 classes.\n",
            "<_BatchDataset element_spec=TensorSpec(shape=(None, 16, 16, 4), dtype=tf.float32, name=None)>\n"
          ]
        }
      ],
      "source": [
        "# ds = tf.keras.preprocessing.image_dataset_from_directory('/content/dataset', image_size=(16, 16), batch_size=1)\n",
        "train_dataset = tf.keras.utils.image_dataset_from_directory(\n",
        "    '/content/dataset',\n",
        "    batch_size=64,\n",
        "    image_size=(16, 16),\n",
        "    label_mode = None,\n",
        "    color_mode = \"rgba\")\n",
        "# train_dataset = tf.keras.utils.image_dataset_from_directory(\n",
        "#     '/content/dataset',\n",
        "#     validation_split=0.05,\n",
        "#     subset='training',\n",
        "#     seed=400,\n",
        "#     image_size=(16, 16),\n",
        "#     batch_size=64,\n",
        "#     label_mode = None,\n",
        "#     color_mode = \"rgba\")\n",
        "\n",
        "# validation_dataset = tf.keras.utils.image_dataset_from_directory(\n",
        "#     '/content/dataset',\n",
        "#     validation_split=0.05,\n",
        "#     subset='validation',\n",
        "#     seed=400,\n",
        "#     image_size=(16, 16),\n",
        "#     batch_size=64,\n",
        "#     label_mode = None,\n",
        "#     color_mode = \"rgba\")\n",
        "\n",
        "\n",
        "print(train_dataset)"
      ]
    },
    {
      "cell_type": "code",
      "execution_count": 84,
      "metadata": {
        "colab": {
          "base_uri": "https://localhost:8080/",
          "height": 430
        },
        "id": "dFqMJJaL172h",
        "outputId": "594ac366-2002-4ebb-d01d-ab44e85b382b"
      },
      "outputs": [
        {
          "output_type": "display_data",
          "data": {
            "text/plain": [
              "<Figure size 640x480 with 1 Axes>"
            ],
            "image/png": "[encoded data removed]"
          },
          "metadata": {}
        }
      ],
      "source": [
        "for images in train_dataset:\n",
        "  image = images[0]\n",
        "  plt.imshow(image.numpy().astype(\"uint8\"))\n",
        "  plt.show()\n",
        "  break"
      ]
    },
    {
      "cell_type": "code",
      "execution_count": 85,
      "metadata": {
        "colab": {
          "base_uri": "https://localhost:8080/"
        },
        "id": "V7NDzDRx60Lt",
        "outputId": "ca4f0bda-8332-4e6a-a81e-708f814d68ee"
      },
      "outputs": [
        {
          "output_type": "stream",
          "name": "stdout",
          "text": [
            "<_ShuffleDataset element_spec=TensorSpec(shape=(None, 16, 16, 4), dtype=tf.float32, name=None)>\n"
          ]
        }
      ],
      "source": [
        "def scale_img(img_ndarray):\n",
        "  processing = img_ndarray\n",
        "  return processing/255\n",
        "\n",
        "\n",
        "train_dataset = train_dataset.map(scale_img)\n",
        "train_dataset = train_dataset.cache()\n",
        "train_dataset = train_dataset.shuffle(buffer_size=128)\n",
        "train_dataset = train_dataset.prefetch(buffer_size=128)\n",
        "print(train_dataset)\n"
      ]
    },
    {
      "cell_type": "code",
      "execution_count": 42,
      "metadata": {
        "id": "1VXhyzvgLWkL"
      },
      "outputs": [],
      "source": [
        "def build_generator():\n",
        "  model = Sequential()\n",
        "\n",
        "  model.add(Dense((4*4*256), input_dim=128))\n",
        "  model.add(LeakyReLU(0.2))\n",
        "  model.add(Reshape((4, 4, 256)))\n",
        "\n",
        "\n",
        "  model.add(Conv2D(256, 5, padding='same'))\n",
        "  model.add(LeakyReLU(0.2))\n",
        "\n",
        "  model.add(UpSampling2D())\n",
        "  model.add(Conv2D(128, 5, padding='same'))\n",
        "  model.add(LeakyReLU(0.2))\n",
        "\n",
        "  model.add(Conv2D(64, 5, padding='same'))\n",
        "  model.add(LeakyReLU(0.2))\n",
        "\n",
        "  model.add(Conv2D(32, 5, padding='same'))\n",
        "  model.add(LeakyReLU(0.2))\n",
        "\n",
        "  model.add(UpSampling2D())\n",
        "  model.add(Conv2D(16, 5, padding='same'))\n",
        "  model.add(LeakyReLU(0.2))\n",
        "\n",
        "  model.add(Conv2D(8, 5, padding='same'))\n",
        "  model.add(LeakyReLU(0.2))\n",
        "\n",
        "  model.add(Conv2D(4, 5, padding='same', activation='sigmoid'))\n",
        "\n",
        "\n",
        "  return model"
      ]
    },
    {
      "cell_type": "code",
      "execution_count": 43,
      "metadata": {
        "colab": {
          "base_uri": "https://localhost:8080/"
        },
        "id": "8hM-inNjMiDT",
        "outputId": "d77879d2-89a7-426e-cf74-428bc9c24a8f"
      },
      "outputs": [
        {
          "output_type": "stream",
          "name": "stdout",
          "text": [
            "Model: \"sequential_17\"\n",
            "_________________________________________________________________\n",
            " Layer (type)                Output Shape              Param #   \n",
            "=================================================================\n",
            " dense_12 (Dense)            (None, 4096)              528384    \n",
            "                                                                 \n",
            " leaky_re_lu_106 (LeakyReLU)  (None, 4096)             0         \n",
            "                                                                 \n",
            " reshape_1 (Reshape)         (None, 4, 4, 256)         0         \n",
            "                                                                 \n",
            " conv2d_110 (Conv2D)         (None, 4, 4, 256)         1638656   \n",
            "                                                                 \n",
            " leaky_re_lu_107 (LeakyReLU)  (None, 4, 4, 256)        0         \n",
            "                                                                 \n",
            " up_sampling2d_2 (UpSampling  (None, 8, 8, 256)        0         \n",
            " 2D)                                                             \n",
            "                                                                 \n",
            " conv2d_111 (Conv2D)         (None, 8, 8, 128)         819328    \n",
            "                                                                 \n",
            " leaky_re_lu_108 (LeakyReLU)  (None, 8, 8, 128)        0         \n",
            "                                                                 \n",
            " conv2d_112 (Conv2D)         (None, 8, 8, 64)          204864    \n",
            "                                                                 \n",
            " leaky_re_lu_109 (LeakyReLU)  (None, 8, 8, 64)         0         \n",
            "                                                                 \n",
            " conv2d_113 (Conv2D)         (None, 8, 8, 32)          51232     \n",
            "                                                                 \n",
            " leaky_re_lu_110 (LeakyReLU)  (None, 8, 8, 32)         0         \n",
            "                                                                 \n",
            " up_sampling2d_3 (UpSampling  (None, 16, 16, 32)       0         \n",
            " 2D)                                                             \n",
            "                                                                 \n",
            " conv2d_114 (Conv2D)         (None, 16, 16, 16)        12816     \n",
            "                                                                 \n",
            " leaky_re_lu_111 (LeakyReLU)  (None, 16, 16, 16)       0         \n",
            "                                                                 \n",
            " conv2d_115 (Conv2D)         (None, 16, 16, 8)         3208      \n",
            "                                                                 \n",
            " leaky_re_lu_112 (LeakyReLU)  (None, 16, 16, 8)        0         \n",
            "                                                                 \n",
            " conv2d_116 (Conv2D)         (None, 16, 16, 4)         804       \n",
            "                                                                 \n",
            "=================================================================\n",
            "Total params: 3,259,292\n",
            "Trainable params: 3,259,292\n",
            "Non-trainable params: 0\n",
            "_________________________________________________________________\n"
          ]
        }
      ],
      "source": [
        "build_generator().summary()"
      ]
    },
    {
      "cell_type": "code",
      "execution_count": 46,
      "metadata": {
        "id": "iiRk_qIpx47e"
      },
      "outputs": [],
      "source": [
        "def build_discriminator():\n",
        "  # input 16x16x3\n",
        "  model = Sequential()\n",
        "\n",
        "  model.add(Conv2D(1, 8, padding='same', input_shape = (16, 16, 4)))\n",
        "  model.add(LeakyReLU(0.3))\n",
        "  model.add(Dropout(0.4))\n",
        "\n",
        "  model.add(Conv2D(2, 8, padding='same'))\n",
        "  model.add(LeakyReLU(0.3))\n",
        "  model.add(Dropout(0.4))\n",
        "\n",
        "  model.add(Conv2D(4, 8, padding='same'))\n",
        "  model.add(LeakyReLU(0.3))\n",
        "  model.add(Dropout(0.4))\n",
        "\n",
        "  model.add(Conv2D(8, 5, padding='same'))\n",
        "  model.add(LeakyReLU(0.3))\n",
        "  model.add(Dropout(0.4))\n",
        "\n",
        "  model.add(Conv2D(16, 5, padding='same'))\n",
        "  model.add(LeakyReLU(0.3))\n",
        "  model.add(Dropout(0.4))\n",
        "  model.add(MaxPooling2D((2, 2)))\n",
        "\n",
        "  model.add(Conv2D(32, 5, padding='same'))\n",
        "  model.add(LeakyReLU(0.3))\n",
        "  model.add(Dropout(0.4))\n",
        "\n",
        "  model.add(Conv2D(64, 3, padding='same'))\n",
        "  model.add(LeakyReLU(0.3))\n",
        "  model.add(Dropout(0.4))\n",
        "  model.add(MaxPooling2D((2, 2)))\n",
        "\n",
        "  model.add(Conv2D(128, 3, padding='same'))\n",
        "  model.add(LeakyReLU(0.3))\n",
        "  model.add(Dropout(0.4))\n",
        "\n",
        "  model.add(Conv2D(256, 3, padding='same'))\n",
        "  model.add(LeakyReLU(0.3))\n",
        "  model.add(Dropout(0.4))\n",
        "  model.add(MaxPooling2D((2, 2)))\n",
        "\n",
        "  model.add(Conv2D(512, 3, padding='same'))\n",
        "  model.add(LeakyReLU(0.3))\n",
        "  model.add(Dropout(0.4))\n",
        "\n",
        "  model.add(Flatten())\n",
        "  model.add(Dense(1024))\n",
        "  model.add(Dropout(0.4))\n",
        "  model.add(Dense(1, activation='sigmoid'))\n",
        "\n",
        "\n",
        "\n",
        "  return model"
      ]
    },
    {
      "cell_type": "code",
      "execution_count": 47,
      "metadata": {
        "colab": {
          "base_uri": "https://localhost:8080/"
        },
        "id": "0WG_TD_s0OD8",
        "outputId": "479f911f-f001-408c-ce20-a21f1367fc85"
      },
      "outputs": [
        {
          "output_type": "stream",
          "name": "stdout",
          "text": [
            "Model: \"sequential_19\"\n",
            "_________________________________________________________________\n",
            " Layer (type)                Output Shape              Param #   \n",
            "=================================================================\n",
            " conv2d_127 (Conv2D)         (None, 16, 16, 1)         257       \n",
            "                                                                 \n",
            " leaky_re_lu_123 (LeakyReLU)  (None, 16, 16, 1)        0         \n",
            "                                                                 \n",
            " dropout_110 (Dropout)       (None, 16, 16, 1)         0         \n",
            "                                                                 \n",
            " conv2d_128 (Conv2D)         (None, 16, 16, 2)         130       \n",
            "                                                                 \n",
            " leaky_re_lu_124 (LeakyReLU)  (None, 16, 16, 2)        0         \n",
            "                                                                 \n",
            " dropout_111 (Dropout)       (None, 16, 16, 2)         0         \n",
            "                                                                 \n",
            " conv2d_129 (Conv2D)         (None, 16, 16, 4)         516       \n",
            "                                                                 \n",
            " leaky_re_lu_125 (LeakyReLU)  (None, 16, 16, 4)        0         \n",
            "                                                                 \n",
            " dropout_112 (Dropout)       (None, 16, 16, 4)         0         \n",
            "                                                                 \n",
            " conv2d_130 (Conv2D)         (None, 16, 16, 8)         808       \n",
            "                                                                 \n",
            " leaky_re_lu_126 (LeakyReLU)  (None, 16, 16, 8)        0         \n",
            "                                                                 \n",
            " dropout_113 (Dropout)       (None, 16, 16, 8)         0         \n",
            "                                                                 \n",
            " conv2d_131 (Conv2D)         (None, 16, 16, 16)        3216      \n",
            "                                                                 \n",
            " leaky_re_lu_127 (LeakyReLU)  (None, 16, 16, 16)       0         \n",
            "                                                                 \n",
            " dropout_114 (Dropout)       (None, 16, 16, 16)        0         \n",
            "                                                                 \n",
            " max_pooling2d_13 (MaxPoolin  (None, 8, 8, 16)         0         \n",
            " g2D)                                                            \n",
            "                                                                 \n",
            " conv2d_132 (Conv2D)         (None, 8, 8, 32)          12832     \n",
            "                                                                 \n",
            " leaky_re_lu_128 (LeakyReLU)  (None, 8, 8, 32)         0         \n",
            "                                                                 \n",
            " dropout_115 (Dropout)       (None, 8, 8, 32)          0         \n",
            "                                                                 \n",
            " conv2d_133 (Conv2D)         (None, 8, 8, 64)          18496     \n",
            "                                                                 \n",
            " leaky_re_lu_129 (LeakyReLU)  (None, 8, 8, 64)         0         \n",
            "                                                                 \n",
            " dropout_116 (Dropout)       (None, 8, 8, 64)          0         \n",
            "                                                                 \n",
            " max_pooling2d_14 (MaxPoolin  (None, 4, 4, 64)         0         \n",
            " g2D)                                                            \n",
            "                                                                 \n",
            " conv2d_134 (Conv2D)         (None, 4, 4, 128)         73856     \n",
            "                                                                 \n",
            " leaky_re_lu_130 (LeakyReLU)  (None, 4, 4, 128)        0         \n",
            "                                                                 \n",
            " dropout_117 (Dropout)       (None, 4, 4, 128)         0         \n",
            "                                                                 \n",
            " conv2d_135 (Conv2D)         (None, 4, 4, 256)         295168    \n",
            "                                                                 \n",
            " leaky_re_lu_131 (LeakyReLU)  (None, 4, 4, 256)        0         \n",
            "                                                                 \n",
            " dropout_118 (Dropout)       (None, 4, 4, 256)         0         \n",
            "                                                                 \n",
            " max_pooling2d_15 (MaxPoolin  (None, 2, 2, 256)        0         \n",
            " g2D)                                                            \n",
            "                                                                 \n",
            " conv2d_136 (Conv2D)         (None, 2, 2, 512)         1180160   \n",
            "                                                                 \n",
            " leaky_re_lu_132 (LeakyReLU)  (None, 2, 2, 512)        0         \n",
            "                                                                 \n",
            " dropout_119 (Dropout)       (None, 2, 2, 512)         0         \n",
            "                                                                 \n",
            " flatten_12 (Flatten)        (None, 2048)              0         \n",
            "                                                                 \n",
            " dense_15 (Dense)            (None, 1024)              2098176   \n",
            "                                                                 \n",
            " dropout_120 (Dropout)       (None, 1024)              0         \n",
            "                                                                 \n",
            " dense_16 (Dense)            (None, 1)                 1025      \n",
            "                                                                 \n",
            "=================================================================\n",
            "Total params: 3,684,640\n",
            "Trainable params: 3,684,640\n",
            "Non-trainable params: 0\n",
            "_________________________________________________________________\n"
          ]
        }
      ],
      "source": [
        "build_discriminator().summary()"
      ]
    },
    {
      "cell_type": "code",
      "execution_count": 90,
      "metadata": {
        "colab": {
          "base_uri": "https://localhost:8080/",
          "height": 1000
        },
        "id": "DfhNv6X4NuVJ",
        "outputId": "09d074a4-d247-4967-b18e-bec4c86822bb"
      },
      "outputs": [
        {
          "output_type": "stream",
          "name": "stdout",
          "text": [
            "1/1 [==============================] - 0s 38ms/step\n",
            "[[[[0.50301945 0.49698323 0.50041282 0.49833187]\n",
            "   [0.50920773 0.49956676 0.49839720 0.49672464]\n",
            "   [0.49809635 0.49786547 0.49003339 0.49512365]\n",
            "   ...\n",
            "   [0.50222158 0.50141436 0.49767745 0.49895886]\n",
            "   [0.50530601 0.50334799 0.49759331 0.50170577]\n",
            "   [0.50257289 0.50242341 0.50060487 0.50370491]]\n",
            "\n",
            "  [[0.50060707 0.49755511 0.49544272 0.50349712]\n",
            "   [0.50742924 0.50297314 0.49947450 0.50300372]\n",
            "   [0.49757022 0.50083452 0.49395800 0.49607474]\n",
            "   ...\n",
            "   [0.50520319 0.50063485 0.50076813 0.49919698]\n",
            "   [0.50668764 0.50151885 0.49698365 0.50483179]\n",
            "   [0.50930148 0.50471079 0.50417787 0.50394523]]\n",
            "\n",
            "  [[0.50236213 0.50481457 0.49133870 0.50082380]\n",
            "   [0.50851792 0.50817537 0.49788544 0.50020146]\n",
            "   [0.50480366 0.50442785 0.49506137 0.49788910]\n",
            "   ...\n",
            "   [0.50577974 0.50000787 0.49846134 0.50154352]\n",
            "   [0.50664699 0.50278515 0.49868810 0.51264071]\n",
            "   [0.50711918 0.50622529 0.50385928 0.50808942]]\n",
            "\n",
            "  ...\n",
            "\n",
            "  [[0.50048983 0.50650167 0.48582014 0.49839300]\n",
            "   [0.51650834 0.50901401 0.49566016 0.49322623]\n",
            "   [0.52855551 0.51579350 0.49528193 0.49918404]\n",
            "   ...\n",
            "   [0.51856196 0.50582689 0.48942378 0.49301621]\n",
            "   [0.51803482 0.49761620 0.49981278 0.49689093]\n",
            "   [0.51359522 0.49278662 0.50018495 0.49466562]]\n",
            "\n",
            "  [[0.49908122 0.50355077 0.48588520 0.49713928]\n",
            "   [0.50684661 0.50876790 0.48597202 0.50280190]\n",
            "   [0.52371895 0.51315194 0.48703066 0.50074583]\n",
            "   ...\n",
            "   [0.51631683 0.50307846 0.49137312 0.50385052]\n",
            "   [0.51587236 0.49644631 0.49922290 0.49760285]\n",
            "   [0.51048261 0.49599215 0.50402123 0.49488777]]\n",
            "\n",
            "  [[0.50096792 0.50601631 0.49174643 0.50112331]\n",
            "   [0.50249708 0.51132226 0.48707938 0.50702858]\n",
            "   [0.50719410 0.51495332 0.48605245 0.49500686]\n",
            "   ...\n",
            "   [0.50644016 0.49689752 0.49247965 0.50178039]\n",
            "   [0.51096451 0.49605262 0.49647579 0.50034064]\n",
            "   [0.50686604 0.49697965 0.49489915 0.49760246]]]\n",
            "\n",
            "\n",
            " [[[0.50044310 0.49733433 0.50468689 0.50185263]\n",
            "   [0.49855518 0.49849671 0.50007540 0.49637368]\n",
            "   [0.50113636 0.50070679 0.50080144 0.50064832]\n",
            "   ...\n",
            "   [0.50199628 0.49900872 0.49738270 0.50673753]\n",
            "   [0.50464720 0.49761474 0.49772432 0.50206840]\n",
            "   [0.50048637 0.50252599 0.49928838 0.50307041]]\n",
            "\n",
            "  [[0.49796495 0.49883696 0.50515985 0.50521153]\n",
            "   [0.50228328 0.49869499 0.50210184 0.50179595]\n",
            "   [0.50352591 0.49763715 0.50548077 0.50688314]\n",
            "   ...\n",
            "   [0.50989193 0.49748901 0.50329012 0.50814503]\n",
            "   [0.51261955 0.49728015 0.50045019 0.50691229]\n",
            "   [0.50723958 0.50551945 0.50214106 0.50353938]]\n",
            "\n",
            "  [[0.50117987 0.50205445 0.50576848 0.50912422]\n",
            "   [0.50735003 0.50468493 0.50302994 0.50270617]\n",
            "   [0.50027674 0.50125986 0.50199902 0.50285292]\n",
            "   ...\n",
            "   [0.51598483 0.50682563 0.50278705 0.50993329]\n",
            "   [0.50946116 0.50692892 0.49673110 0.50693822]\n",
            "   [0.50809467 0.50481331 0.50211394 0.50170207]]\n",
            "\n",
            "  ...\n",
            "\n",
            "  [[0.50228310 0.50241429 0.49061525 0.49578705]\n",
            "   [0.50465804 0.49903473 0.48404220 0.49544972]\n",
            "   [0.51022744 0.50948000 0.48143068 0.49071178]\n",
            "   ...\n",
            "   [0.51562619 0.50321507 0.49600217 0.50884306]\n",
            "   [0.51754141 0.50677466 0.50840420 0.50981301]\n",
            "   [0.51480430 0.50799590 0.50154978 0.50192636]]\n",
            "\n",
            "  [[0.50232571 0.50004995 0.49179655 0.49733117]\n",
            "   [0.50567216 0.50322890 0.49037477 0.49412191]\n",
            "   [0.51149344 0.50648272 0.48510644 0.49118724]\n",
            "   ...\n",
            "   [0.51341909 0.49288321 0.49571076 0.49917501]\n",
            "   [0.51172549 0.50433671 0.51178473 0.50023878]\n",
            "   [0.51247054 0.50405139 0.50451386 0.50329858]]\n",
            "\n",
            "  [[0.49907494 0.50224251 0.49552161 0.49589279]\n",
            "   [0.50108159 0.50011170 0.49059597 0.49613038]\n",
            "   [0.50798595 0.50402039 0.48607188 0.49575156]\n",
            "   ...\n",
            "   [0.51010138 0.50169307 0.49927685 0.49580294]\n",
            "   [0.50938410 0.50529939 0.50409251 0.50022340]\n",
            "   [0.50691980 0.50407034 0.50189567 0.50218290]]]\n",
            "\n",
            "\n",
            " [[[0.49925712 0.49866414 0.50072157 0.50143719]\n",
            "   [0.49998248 0.49859846 0.50185663 0.50345606]\n",
            "   [0.49736294 0.49748719 0.49645182 0.50214756]\n",
            "   ...\n",
            "   [0.50651848 0.50009084 0.49708444 0.49586841]\n",
            "   [0.50567251 0.49981821 0.49671662 0.50136507]\n",
            "   [0.50292569 0.50382197 0.49651822 0.50750297]]\n",
            "\n",
            "  [[0.49586561 0.49821255 0.50322747 0.49998313]\n",
            "   [0.50178397 0.50111449 0.50203764 0.49973193]\n",
            "   [0.50229383 0.50008160 0.49318969 0.49830180]\n",
            "   ...\n",
            "   [0.50882459 0.50243086 0.50507385 0.49917144]\n",
            "   [0.51258790 0.50051272 0.49802870 0.50564528]\n",
            "   [0.50664175 0.50720710 0.49840921 0.50902951]]\n",
            "\n",
            "  [[0.50219578 0.49982333 0.49982375 0.49848521]\n",
            "   [0.51601523 0.49908093 0.50046855 0.49638501]\n",
            "   [0.51145083 0.50279462 0.49153453 0.49538851]\n",
            "   ...\n",
            "   [0.51776719 0.50522584 0.50255507 0.50690824]\n",
            "   [0.51283997 0.50356990 0.49735227 0.51571989]\n",
            "   [0.50517493 0.50292319 0.50148785 0.50623715]]\n",
            "\n",
            "  ...\n",
            "\n",
            "  [[0.50737923 0.50696218 0.48473239 0.50306314]\n",
            "   [0.50791943 0.51348406 0.48592812 0.49624318]\n",
            "   [0.51366472 0.50951934 0.48286995 0.48905888]\n",
            "   ...\n",
            "   [0.50991946 0.50005382 0.49185669 0.50040209]\n",
            "   [0.51282030 0.50193614 0.49666479 0.50438255]\n",
            "   [0.51223075 0.50508958 0.49929777 0.49727774]]\n",
            "\n",
            "  [[0.49989071 0.50495523 0.49111134 0.49747378]\n",
            "   [0.50462925 0.50662369 0.49507377 0.49809340]\n",
            "   [0.50837624 0.50157601 0.49264470 0.49668774]\n",
            "   ...\n",
            "   [0.51102275 0.49816570 0.49686939 0.49847853]\n",
            "   [0.51143479 0.50058270 0.50033534 0.49897370]\n",
            "   [0.51039952 0.49876606 0.50226694 0.49662834]]\n",
            "\n",
            "  [[0.50035465 0.50865477 0.49193117 0.50109738]\n",
            "   [0.50255418 0.50584990 0.49301344 0.50379598]\n",
            "   [0.50260937 0.50379461 0.49547678 0.50186950]\n",
            "   ...\n",
            "   [0.50355750 0.50425148 0.49697393 0.49595988]\n",
            "   [0.50931692 0.50239569 0.49711961 0.49918854]\n",
            "   [0.50845635 0.49940479 0.50074130 0.49980077]]]]\n",
            "----------------------------\n",
            "[[[[0.50301945 0.49698323 0.50041282 0.49833187]\n",
            "   [0.50920773 0.49956676 0.49839720 0.49672464]\n",
            "   [0.49809635 0.49786547 0.49003339 0.49512365]\n",
            "   ...\n",
            "   [0.50222158 0.50141436 0.49767745 0.49895886]\n",
            "   [0.50530601 0.50334799 0.49759331 0.50170577]\n",
            "   [0.50257289 0.50242341 0.50060487 0.50370491]]\n",
            "\n",
            "  [[0.50060707 0.49755511 0.49544272 0.50349712]\n",
            "   [0.50742924 0.50297314 0.49947450 0.50300372]\n",
            "   [0.49757022 0.50083452 0.49395800 0.49607474]\n",
            "   ...\n",
            "   [0.50520319 0.50063485 0.50076813 0.49919698]\n",
            "   [0.50668764 0.50151885 0.49698365 0.50483179]\n",
            "   [0.50930148 0.50471079 0.50417787 0.50394523]]\n",
            "\n",
            "  [[0.50236213 0.50481457 0.49133870 0.50082380]\n",
            "   [0.50851792 0.50817537 0.49788544 0.50020146]\n",
            "   [0.50480366 0.50442785 0.49506137 0.49788910]\n",
            "   ...\n",
            "   [0.50577974 0.50000787 0.49846134 0.50154352]\n",
            "   [0.50664699 0.50278515 0.49868810 0.51264071]\n",
            "   [0.50711918 0.50622529 0.50385928 0.50808942]]\n",
            "\n",
            "  ...\n",
            "\n",
            "  [[0.50048983 0.50650167 0.48582014 0.49839300]\n",
            "   [0.51650834 0.50901401 0.49566016 0.49322623]\n",
            "   [0.52855551 0.51579350 0.49528193 0.49918404]\n",
            "   ...\n",
            "   [0.51856196 0.50582689 0.48942378 0.49301621]\n",
            "   [0.51803482 0.49761620 0.49981278 0.49689093]\n",
            "   [0.51359522 0.49278662 0.50018495 0.49466562]]\n",
            "\n",
            "  [[0.49908122 0.50355077 0.48588520 0.49713928]\n",
            "   [0.50684661 0.50876790 0.48597202 0.50280190]\n",
            "   [0.52371895 0.51315194 0.48703066 0.50074583]\n",
            "   ...\n",
            "   [0.51631683 0.50307846 0.49137312 0.50385052]\n",
            "   [0.51587236 0.49644631 0.49922290 0.49760285]\n",
            "   [0.51048261 0.49599215 0.50402123 0.49488777]]\n",
            "\n",
            "  [[0.50096792 0.50601631 0.49174643 0.50112331]\n",
            "   [0.50249708 0.51132226 0.48707938 0.50702858]\n",
            "   [0.50719410 0.51495332 0.48605245 0.49500686]\n",
            "   ...\n",
            "   [0.50644016 0.49689752 0.49247965 0.50178039]\n",
            "   [0.51096451 0.49605262 0.49647579 0.50034064]\n",
            "   [0.50686604 0.49697965 0.49489915 0.49760246]]]\n",
            "\n",
            "\n",
            " [[[0.50044310 0.49733433 0.50468689 0.50185263]\n",
            "   [0.49855518 0.49849671 0.50007540 0.49637368]\n",
            "   [0.50113636 0.50070679 0.50080144 0.50064832]\n",
            "   ...\n",
            "   [0.50199628 0.49900872 0.49738270 0.50673753]\n",
            "   [0.50464720 0.49761474 0.49772432 0.50206840]\n",
            "   [0.50048637 0.50252599 0.49928838 0.50307041]]\n",
            "\n",
            "  [[0.49796495 0.49883696 0.50515985 0.50521153]\n",
            "   [0.50228328 0.49869499 0.50210184 0.50179595]\n",
            "   [0.50352591 0.49763715 0.50548077 0.50688314]\n",
            "   ...\n",
            "   [0.50989193 0.49748901 0.50329012 0.50814503]\n",
            "   [0.51261955 0.49728015 0.50045019 0.50691229]\n",
            "   [0.50723958 0.50551945 0.50214106 0.50353938]]\n",
            "\n",
            "  [[0.50117987 0.50205445 0.50576848 0.50912422]\n",
            "   [0.50735003 0.50468493 0.50302994 0.50270617]\n",
            "   [0.50027674 0.50125986 0.50199902 0.50285292]\n",
            "   ...\n",
            "   [0.51598483 0.50682563 0.50278705 0.50993329]\n",
            "   [0.50946116 0.50692892 0.49673110 0.50693822]\n",
            "   [0.50809467 0.50481331 0.50211394 0.50170207]]\n",
            "\n",
            "  ...\n",
            "\n",
            "  [[0.50228310 0.50241429 0.49061525 0.49578705]\n",
            "   [0.50465804 0.49903473 0.48404220 0.49544972]\n",
            "   [0.51022744 0.50948000 0.48143068 0.49071178]\n",
            "   ...\n",
            "   [0.51562619 0.50321507 0.49600217 0.50884306]\n",
            "   [0.51754141 0.50677466 0.50840420 0.50981301]\n",
            "   [0.51480430 0.50799590 0.50154978 0.50192636]]\n",
            "\n",
            "  [[0.50232571 0.50004995 0.49179655 0.49733117]\n",
            "   [0.50567216 0.50322890 0.49037477 0.49412191]\n",
            "   [0.51149344 0.50648272 0.48510644 0.49118724]\n",
            "   ...\n",
            "   [0.51341909 0.49288321 0.49571076 0.49917501]\n",
            "   [0.51172549 0.50433671 0.51178473 0.50023878]\n",
            "   [0.51247054 0.50405139 0.50451386 0.50329858]]\n",
            "\n",
            "  [[0.49907494 0.50224251 0.49552161 0.49589279]\n",
            "   [0.50108159 0.50011170 0.49059597 0.49613038]\n",
            "   [0.50798595 0.50402039 0.48607188 0.49575156]\n",
            "   ...\n",
            "   [0.51010138 0.50169307 0.49927685 0.49580294]\n",
            "   [0.50938410 0.50529939 0.50409251 0.50022340]\n",
            "   [0.50691980 0.50407034 0.50189567 0.50218290]]]\n",
            "\n",
            "\n",
            " [[[0.49925712 0.49866414 0.50072157 0.50143719]\n",
            "   [0.49998248 0.49859846 0.50185663 0.50345606]\n",
            "   [0.49736294 0.49748719 0.49645182 0.50214756]\n",
            "   ...\n",
            "   [0.50651848 0.50009084 0.49708444 0.49586841]\n",
            "   [0.50567251 0.49981821 0.49671662 0.50136507]\n",
            "   [0.50292569 0.50382197 0.49651822 0.50750297]]\n",
            "\n",
            "  [[0.49586561 0.49821255 0.50322747 0.49998313]\n",
            "   [0.50178397 0.50111449 0.50203764 0.49973193]\n",
            "   [0.50229383 0.50008160 0.49318969 0.49830180]\n",
            "   ...\n",
            "   [0.50882459 0.50243086 0.50507385 0.49917144]\n",
            "   [0.51258790 0.50051272 0.49802870 0.50564528]\n",
            "   [0.50664175 0.50720710 0.49840921 0.50902951]]\n",
            "\n",
            "  [[0.50219578 0.49982333 0.49982375 0.49848521]\n",
            "   [0.51601523 0.49908093 0.50046855 0.49638501]\n",
            "   [0.51145083 0.50279462 0.49153453 0.49538851]\n",
            "   ...\n",
            "   [0.51776719 0.50522584 0.50255507 0.50690824]\n",
            "   [0.51283997 0.50356990 0.49735227 0.51571989]\n",
            "   [0.50517493 0.50292319 0.50148785 0.50623715]]\n",
            "\n",
            "  ...\n",
            "\n",
            "  [[0.50737923 0.50696218 0.48473239 0.50306314]\n",
            "   [0.50791943 0.51348406 0.48592812 0.49624318]\n",
            "   [0.51366472 0.50951934 0.48286995 0.48905888]\n",
            "   ...\n",
            "   [0.50991946 0.50005382 0.49185669 0.50040209]\n",
            "   [0.51282030 0.50193614 0.49666479 0.50438255]\n",
            "   [0.51223075 0.50508958 0.49929777 0.49727774]]\n",
            "\n",
            "  [[0.49989071 0.50495523 0.49111134 0.49747378]\n",
            "   [0.50462925 0.50662369 0.49507377 0.49809340]\n",
            "   [0.50837624 0.50157601 0.49264470 0.49668774]\n",
            "   ...\n",
            "   [0.51102275 0.49816570 0.49686939 0.49847853]\n",
            "   [0.51143479 0.50058270 0.50033534 0.49897370]\n",
            "   [0.51039952 0.49876606 0.50226694 0.49662834]]\n",
            "\n",
            "  [[0.50035465 0.50865477 0.49193117 0.50109738]\n",
            "   [0.50255418 0.50584990 0.49301344 0.50379598]\n",
            "   [0.50260937 0.50379461 0.49547678 0.50186950]\n",
            "   ...\n",
            "   [0.50355750 0.50425148 0.49697393 0.49595988]\n",
            "   [0.50931692 0.50239569 0.49711961 0.49918854]\n",
            "   [0.50845635 0.49940479 0.50074130 0.49980077]]]]\n",
            "(3, 16, 16, 4)\n"
          ]
        },
        {
          "output_type": "display_data",
          "data": {
            "text/plain": [
              "<Figure size 640x480 with 1 Axes>"
            ],
            "image/png": "[encoded data removed]"
          },
          "metadata": {}
        },
        {
          "output_type": "display_data",
          "data": {
            "text/plain": [
              "<Figure size 640x480 with 1 Axes>"
            ],
            "image/png": "[encoded data removed]"
          },
          "metadata": {}
        },
        {
          "output_type": "display_data",
          "data": {
            "text/plain": [
              "<Figure size 640x480 with 1 Axes>"
            ],
            "image/png": "[encoded data removed]"
          },
          "metadata": {}
        }
      ],
      "source": [
        "generator = build_generator()\n",
        "img = generator.predict(np.random.randn(3, 128, 1))\n",
        "print(img)\n",
        "# img = img*255\n",
        "# img = img.astype('uint8')\n",
        "print('----------------------------')\n",
        "print(img)\n",
        "print(img.shape)\n",
        "for index in range(0, 3):\n",
        "  plt.imshow(img[index])\n",
        "  plt.show()"
      ]
    },
    {
      "cell_type": "code",
      "execution_count": 91,
      "metadata": {
        "colab": {
          "base_uri": "https://localhost:8080/"
        },
        "id": "bCmt9g061mHE",
        "outputId": "27e319a6-b6b9-483d-b71d-0ee922d747ca"
      },
      "outputs": [
        {
          "output_type": "stream",
          "name": "stdout",
          "text": [
            "1/1 [==============================] - 0s 29ms/step\n"
          ]
        },
        {
          "output_type": "execute_result",
          "data": {
            "text/plain": [
              "array([[0.50237989],\n",
              "       [0.48528898],\n",
              "       [0.48318478],\n",
              "       [0.49029940],\n",
              "       [0.48825809],\n",
              "       [0.48764864],\n",
              "       [0.49838459],\n",
              "       [0.49365604],\n",
              "       [0.49755341],\n",
              "       [0.49303302],\n",
              "       [0.49540970],\n",
              "       [0.49680665],\n",
              "       [0.49800378],\n",
              "       [0.49367613],\n",
              "       [0.48981827],\n",
              "       [0.50121379]], dtype=float32)"
            ]
          },
          "metadata": {},
          "execution_count": 91
        }
      ],
      "source": [
        "discriminator = build_discriminator()\n",
        "discriminator.predict(tf.random.normal((16, 16, 16, 4)))"
      ]
    },
    {
      "cell_type": "code",
      "execution_count": 92,
      "metadata": {
        "id": "De6c1BwF34vz"
      },
      "outputs": [],
      "source": [
        "class MinecraftTextureGAN(Model):\n",
        "  def __init__(self, generator, discriminator, batch_size, *args, **kwargs):\n",
        "    super().__init__(*args, **kwargs)\n",
        "    self.generator = generator\n",
        "    self.discriminator = discriminator\n",
        "    self.batch_size = batch_size\n",
        "\n",
        "  def compile(self, g_loss, d_loss, g_optimizer, d_optimizer, *args, **kwargs):\n",
        "    super().compile(*args, **kwargs)\n",
        "\n",
        "    self.g_loss_f = g_loss\n",
        "    self.d_loss_f = d_loss\n",
        "    self.g_optimizer = g_optimizer\n",
        "    self.d_optimizer = d_optimizer\n",
        "\n",
        "    # self.g_optimizer.build(self.generator.trainable_variables)\n",
        "    # self.d_optimizer.build(self.discriminator.trainable_variables)\n",
        "\n",
        "  def train_step(self, batch_of_data):\n",
        "    # train the discriminator\n",
        "    with tf.GradientTape() as d_tape:\n",
        "      real_img = batch_of_data\n",
        "      # print(real_img.shape)\n",
        "\n",
        "      # TODO: use this when the early is used\n",
        "      self.batch_size = int(tf.shape(batch_of_data)[0].numpy())\n",
        "\n",
        "      fake_img = generator(np.random.randn(self.batch_size, 128, 1), training=False)\n",
        "      # print(fake_img.shape)\n",
        "\n",
        "      real_and_fake_img = tf.concat([real_img, fake_img], axis=0)\n",
        "\n",
        "      zeros = tf.zeros((self.batch_size, 1))\n",
        "      random_arr = np.random.uniform(low=0.0, high=0.15, size=zeros.shape)\n",
        "      zeros = zeros + random_arr\n",
        "\n",
        "      ones = tf.ones((self.batch_size, 1))\n",
        "      random_arr = np.random.uniform(low=0.0, high=0.15, size=ones.shape)\n",
        "      ones = ones - random_arr\n",
        "\n",
        "      real_and_fake_img_label = tf.concat([zeros, ones], axis=0)\n",
        "      discriminator_prediction = self.discriminator(real_and_fake_img, training=True)\n",
        "      # print(real_and_fake_img_label)\n",
        "      # print(discriminator_prediction.shape)\n",
        "      # print(real_and_fake_img_label.shape)\n",
        "      real_and_fake_img_label = tf.squeeze(real_and_fake_img_label)\n",
        "      discriminator_prediction = tf.squeeze(discriminator_prediction)\n",
        "\n",
        "      d_loss = self.d_loss_f(real_and_fake_img_label, discriminator_prediction)\n",
        "      # print(d_loss)\n",
        "\n",
        "    d_gradient = d_tape.gradient(d_loss, self.discriminator.trainable_variables)\n",
        "    self.d_optimizer.apply_gradients(zip(d_gradient, self.discriminator.trainable_variables))\n",
        "\n",
        "    # train the generator\n",
        "    with tf.GradientTape() as g_tape:\n",
        "      generated_images = self.generator(np.random.randn(self.batch_size, 128, 1), training=True)\n",
        "\n",
        "      trick_discriminator_prediction = self.discriminator(generated_images, training=False)\n",
        "      generated_label = tf.ones((self.batch_size, 1))\n",
        "      # print(trick_discriminator_prediction.shape)\n",
        "      # print(generated_label.shape)\n",
        "\n",
        "      generated_label = tf.squeeze(generated_label)\n",
        "      trick_discriminator_prediction = tf.squeeze(trick_discriminator_prediction)\n",
        "      g_loss = self.g_loss_f(generated_label, trick_discriminator_prediction)\n",
        "      # print(g_loss)\n",
        "\n",
        "    g_gradient = g_tape.gradient(g_loss, self.generator.trainable_variables)\n",
        "    self.g_optimizer.apply_gradients(zip(g_gradient, self.generator.trainable_variables))\n",
        "\n",
        "    return {'generator_loss': g_loss, 'discriminator_loss': d_loss}\n"
      ]
    },
    {
      "cell_type": "code",
      "execution_count": 93,
      "metadata": {
        "id": "wUE5P0nsfjYt"
      },
      "outputs": [],
      "source": [
        "class Monitor(Callback):\n",
        "  def __init__(self, num_img, seed_dim):\n",
        "    super().__init__()\n",
        "    self.num_img = num_img\n",
        "    self.seed_dim = seed_dim\n",
        "\n",
        "  def on_epoch_end(self, epoch, logs=None):\n",
        "    img = self.model.generator.predict(np.random.randn(self.num_img, 128, 1))\n",
        "    for i in range(self.num_img):\n",
        "      image = array_to_img(img[i])\n",
        "      image.save(os.path.join(f'images_{id}', f'texture_{epoch}_{i}.png'))\n",
        "\n"
      ]
    },
    {
      "cell_type": "code",
      "execution_count": 94,
      "metadata": {
        "colab": {
          "base_uri": "https://localhost:8080/"
        },
        "id": "hz-LfxcV-ocz",
        "outputId": "2c193f20-301e-4429-94ab-fe966083deb9"
      },
      "outputs": [
        {
          "output_type": "stream",
          "name": "stdout",
          "text": [
            "<_ShuffleDataset element_spec=TensorSpec(shape=(None, 16, 16, 4), dtype=tf.float32, name=None)>\n"
          ]
        }
      ],
      "source": [
        "print(train_dataset)"
      ]
    },
    {
      "cell_type": "code",
      "execution_count": 95,
      "metadata": {
        "colab": {
          "base_uri": "https://localhost:8080/"
        },
        "id": "t6vpx1fvDsHU",
        "outputId": "da2aebdb-e3d6-4bda-98ef-819adf49b36b"
      },
      "outputs": [
        {
          "output_type": "stream",
          "name": "stderr",
          "text": [
            "WARNING:tensorflow:No training configuration found in the save file, so the model was *not* compiled. Compile it manually.\n",
            "WARNING:tensorflow:No training configuration found in the save file, so the model was *not* compiled. Compile it manually.\n"
          ]
        },
        {
          "output_type": "stream",
          "name": "stdout",
          "text": [
            "model id:1 loaded\n"
          ]
        }
      ],
      "source": [
        "try:\n",
        "  model_generator = load_model(f'minecraft_texture_generator_model_{id-1}.h5')\n",
        "  model_discriminator = load_model(f'minecraft_texture_discriminator_model_{id-1}.h5')\n",
        "  print(f\"model id:{id-1} loaded\")\n",
        "except:\n",
        "  model_generator = build_generator()\n",
        "  model_discriminator = build_discriminator()\n",
        "  print(f\"no previous model, make new model\")\n",
        "\n",
        "g_loss = BinaryCrossentropy()\n",
        "d_loss = BinaryCrossentropy()\n",
        "g_opt = Adam(learning_rate=0.0001)\n",
        "d_opt = Adam(learning_rate=0.00005)\n",
        "\n",
        "model = MinecraftTextureGAN(model_generator, model_discriminator, 64)\n",
        "model.compile(g_loss, d_loss, g_opt, d_opt)\n",
        "\n",
        "# history = model.fit(train_dataset, epochs=50)"
      ]
    },
    {
      "cell_type": "code",
      "source": [
        "history = model.fit(x=train_dataset, epochs=100, callbacks=[Monitor(3, 128)])"
      ],
      "metadata": {
        "colab": {
          "base_uri": "https://localhost:8080/"
        },
        "id": "7FA8yl80cNLB",
        "outputId": "f17baf22-739f-4674-af3d-877a00a8ade2"
      },
      "execution_count": null,
      "outputs": [
        {
          "output_type": "stream",
          "name": "stdout",
          "text": [
            "Epoch 1/100\n",
            "1/1 [==============================] - 0s 27ms/step\n",
            "617/617 [==============================] - 179s 269ms/step - generator_loss: 0.0825 - discriminator_loss: 0.2699\n",
            "Epoch 2/100\n",
            "1/1 [==============================] - 0s 39ms/step\n",
            "617/617 [==============================] - 116s 188ms/step - generator_loss: 0.0824 - discriminator_loss: 0.2686\n",
            "Epoch 3/100\n",
            "1/1 [==============================] - 0s 30ms/step\n",
            "617/617 [==============================] - 115s 186ms/step - generator_loss: 0.0760 - discriminator_loss: 0.2692\n",
            "Epoch 4/100\n",
            "1/1 [==============================] - 0s 26ms/step\n",
            "617/617 [==============================] - 115s 186ms/step - generator_loss: 0.0811 - discriminator_loss: 0.2684\n",
            "Epoch 5/100\n",
            "1/1 [==============================] - 0s 27ms/step\n",
            "617/617 [==============================] - 116s 189ms/step - generator_loss: 0.0905 - discriminator_loss: 0.2688\n",
            "Epoch 6/100\n",
            "1/1 [==============================] - 0s 36ms/step\n",
            "617/617 [==============================] - 116s 189ms/step - generator_loss: 0.0783 - discriminator_loss: 0.2679\n",
            "Epoch 7/100\n",
            "1/1 [==============================] - 0s 26ms/step\n",
            "617/617 [==============================] - 116s 188ms/step - generator_loss: 0.0862 - discriminator_loss: 0.2754\n",
            "Epoch 8/100\n",
            "1/1 [==============================] - 0s 26ms/step\n",
            "617/617 [==============================] - 118s 191ms/step - generator_loss: 0.0842 - discriminator_loss: 0.2691\n",
            "Epoch 9/100\n",
            "1/1 [==============================] - 0s 28ms/step\n",
            "617/617 [==============================] - 118s 191ms/step - generator_loss: 0.0764 - discriminator_loss: 0.2684\n",
            "Epoch 10/100\n",
            "1/1 [==============================] - 0s 27ms/step\n",
            "617/617 [==============================] - 119s 193ms/step - generator_loss: 0.0827 - discriminator_loss: 0.2686\n",
            "Epoch 11/100\n",
            "1/1 [==============================] - 0s 29ms/step\n",
            "617/617 [==============================] - 118s 191ms/step - generator_loss: 0.0812 - discriminator_loss: 0.2688\n",
            "Epoch 12/100\n",
            "1/1 [==============================] - 0s 27ms/step\n",
            "617/617 [==============================] - 117s 190ms/step - generator_loss: 0.0914 - discriminator_loss: 0.2766\n",
            "Epoch 13/100\n",
            "1/1 [==============================] - 0s 25ms/step\n",
            "617/617 [==============================] - 118s 191ms/step - generator_loss: 0.0790 - discriminator_loss: 0.2692\n",
            "Epoch 14/100\n",
            "1/1 [==============================] - 0s 40ms/step\n",
            "617/617 [==============================] - 118s 191ms/step - generator_loss: 0.0778 - discriminator_loss: 0.2695\n",
            "Epoch 15/100\n",
            "1/1 [==============================] - 0s 31ms/step\n",
            "617/617 [==============================] - 118s 192ms/step - generator_loss: 0.0827 - discriminator_loss: 0.2697\n",
            "Epoch 16/100\n",
            "1/1 [==============================] - 0s 28ms/step\n",
            "617/617 [==============================] - 118s 191ms/step - generator_loss: 0.0798 - discriminator_loss: 0.2694\n",
            "Epoch 17/100\n",
            "1/1 [==============================] - 0s 37ms/step\n",
            "617/617 [==============================] - 118s 192ms/step - generator_loss: 0.0805 - discriminator_loss: 0.2683\n",
            "Epoch 18/100\n",
            "1/1 [==============================] - 0s 29ms/step\n",
            "617/617 [==============================] - 118s 191ms/step - generator_loss: 0.0858 - discriminator_loss: 0.2737\n",
            "Epoch 19/100\n",
            "1/1 [==============================] - 0s 36ms/step\n",
            "617/617 [==============================] - 118s 191ms/step - generator_loss: 0.0712 - discriminator_loss: 0.2695\n",
            "Epoch 20/100\n",
            "1/1 [==============================] - 0s 28ms/step\n",
            "617/617 [==============================] - 115s 186ms/step - generator_loss: 0.0774 - discriminator_loss: 0.2685\n",
            "Epoch 21/100\n",
            "1/1 [==============================] - 0s 35ms/step\n",
            "617/617 [==============================] - 116s 189ms/step - generator_loss: 0.0707 - discriminator_loss: 0.2688\n",
            "Epoch 22/100\n",
            " 90/617 [===>..........................] - ETA: 1:39 - generator_loss: 0.0866 - discriminator_loss: 0.2692"
          ]
        }
      ]
    },
    {
      "cell_type": "code",
      "source": [
        "img = model_generator.predict(np.random.randn(1, 128, 1))\n",
        "for i in range(1):\n",
        "  image = array_to_img(img[i])\n",
        "    # Check if the file exists\n",
        "  if os.path.exists(f'images_{id}/texture_output.png'):\n",
        "      # Delete the file\n",
        "      os.remove(f'images_{id}/texture_output.png')\n",
        "      print(f'File images/texture_output.png deleted.')\n",
        "  else:\n",
        "      print(f'File images/texture_output.png not found.')\n",
        "  image.save(os.path.join(f'images_{id}', f'texture_output.png'))"
      ],
      "metadata": {
        "id": "3sJP7tpWbq9a"
      },
      "execution_count": null,
      "outputs": []
    },
    {
      "cell_type": "code",
      "source": [
        "model_generator.save(f'minecraft_texture_generator_model_{id}.h5')\n",
        "model_discriminator.save(f'minecraft_texture_discriminator_model_{id}.h5')"
      ],
      "metadata": {
        "id": "E1RUydwA78fR"
      },
      "execution_count": null,
      "outputs": []
    },
    {
      "cell_type": "code",
      "source": [
        "print(history.history)\n",
        "hist_df = pd.DataFrame(history.history)\n",
        "hist_df.to_json(f'history_{id}.json')"
      ],
      "metadata": {
        "id": "OC4PV6C2RbSl"
      },
      "execution_count": null,
      "outputs": []
    },
    {
      "cell_type": "code",
      "source": [
        "shutil.make_archive(f'images_{id}', 'zip', 'images_0')"
      ],
      "metadata": {
        "id": "pFmLIheZSXoE"
      },
      "execution_count": null,
      "outputs": []
    }
  ],
  "metadata": {
    "colab": {
      "provenance": [],
      "include_colab_link": true
    },
    "kernelspec": {
      "display_name": "Python 3",
      "name": "python3"
    },
    "language_info": {
      "name": "python"
    }
  },
  "nbformat": 4,
  "nbformat_minor": 0
}