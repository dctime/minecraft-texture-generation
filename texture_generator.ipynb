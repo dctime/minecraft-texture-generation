{
  "cells": [
    {
      "cell_type": "markdown",
      "metadata": {
        "id": "view-in-github",
        "colab_type": "text"
      },
      "source": [
        "<a href=\"https://colab.research.google.com/github/dctime/minecraft-texture-generation/blob/main/texture_generator.ipynb\" target=\"_parent\"><img src=\"https://colab.research.google.com/assets/colab-badge.svg\" alt=\"Open In Colab\"/></a>"
      ]
    },
    {
      "cell_type": "code",
      "source": [
        "#change id when next generation\n",
        "id = 0"
      ],
      "metadata": {
        "id": "pFEe7A5Z9y25"
      },
      "execution_count": 16,
      "outputs": []
    },
    {
      "cell_type": "code",
      "execution_count": 17,
      "metadata": {
        "id": "vlKAhtQ8Li2v"
      },
      "outputs": [],
      "source": [
        "try:\n",
        "  import shutil\n",
        "\n",
        "  shutil.rmtree(f'images_{id}')\n",
        "except:\n",
        "  pass\n",
        "\n",
        "import os\n",
        "# create new single directory\n",
        "os.mkdir(f'images_{id}')"
      ]
    },
    {
      "cell_type": "code",
      "execution_count": 18,
      "metadata": {
        "colab": {
          "base_uri": "https://localhost:8080/"
        },
        "id": "PpGZNhoSSliJ",
        "outputId": "67871251-d868-41da-d6e8-bd978a087f6a"
      },
      "outputs": [
        {
          "output_type": "stream",
          "name": "stdout",
          "text": [
            "Found GPU at: /device:GPU:0\n"
          ]
        }
      ],
      "source": [
        "import tensorflow as tf\n",
        "try:\n",
        "  device_name = tf.test.gpu_device_name()\n",
        "  if device_name != '/device:GPU:0':\n",
        "    raise SystemError('GPU device not found')\n",
        "  print('Found GPU at: {}'.format(device_name))\n",
        "except:\n",
        "  print(\"no gpu\")"
      ]
    },
    {
      "cell_type": "code",
      "execution_count": 19,
      "metadata": {
        "id": "8VSFy1rwL-O2",
        "colab": {
          "base_uri": "https://localhost:8080/"
        },
        "outputId": "71014486-4a6c-4152-f24d-44d81c9637c6"
      },
      "outputs": [
        {
          "output_type": "stream",
          "name": "stdout",
          "text": [
            "2.12.0\n",
            "Eager execution: True\n"
          ]
        }
      ],
      "source": [
        "import zipfile\n",
        "import os\n",
        "import tensorflow as tf\n",
        "import matplotlib.pyplot as plt\n",
        "import numpy as np\n",
        "import pandas as pd\n",
        "from tensorflow.keras.models import Sequential\n",
        "from tensorflow.keras.layers import Conv2D, Dense, Flatten, Reshape, LeakyReLU, Dropout, UpSampling2D\n",
        "from tensorflow.keras import Model\n",
        "from tensorflow.keras.losses import BinaryCrossentropy\n",
        "from tensorflow.keras.optimizers import Adam\n",
        "from tensorflow.keras.preprocessing.image import array_to_img\n",
        "from tensorflow.keras.callbacks import Callback\n",
        "import os\n",
        "from keras.models import load_model\n",
        "np.set_printoptions(floatmode='fixed')\n",
        "tf.config.run_functions_eagerly(True)\n",
        "print(tf.__version__)\n",
        "print(\"Eager execution:\", tf.executing_eagerly())\n",
        "tf.data.experimental.enable_debug_mode()"
      ]
    },
    {
      "cell_type": "code",
      "source": [
        "from google.colab import drive\n",
        "drive.mount('/content/drive')"
      ],
      "metadata": {
        "colab": {
          "base_uri": "https://localhost:8080/"
        },
        "id": "asblZl0nFVTR",
        "outputId": "60beb11e-e7f3-4343-e6da-2beeca8c305d"
      },
      "execution_count": 20,
      "outputs": [
        {
          "output_type": "stream",
          "name": "stdout",
          "text": [
            "Drive already mounted at /content/drive; to attempt to forcibly remount, call drive.mount(\"/content/drive\", force_remount=True).\n"
          ]
        }
      ]
    },
    {
      "cell_type": "code",
      "execution_count": 21,
      "metadata": {
        "id": "qf-liyECL7vH"
      },
      "outputs": [],
      "source": [
        "with zipfile.ZipFile('drive/MyDrive/Minecraft Texture Generator/minecraft_texture_with_resize_16.zip', 'r') as zip_ref:\n",
        "    zip_ref.extractall('dataset')"
      ]
    },
    {
      "cell_type": "code",
      "execution_count": 22,
      "metadata": {
        "id": "-cU-OOGOMmnM"
      },
      "outputs": [],
      "source": [
        "# for filename in os.listdir('dataset/minecraft_texture_with_resize_16'):\n",
        "#     print(filename)"
      ]
    },
    {
      "cell_type": "code",
      "execution_count": 23,
      "metadata": {
        "colab": {
          "base_uri": "https://localhost:8080/"
        },
        "id": "WTLPWvTt0Ent",
        "outputId": "25f54841-b024-46ca-858d-4ce27f3a2f21"
      },
      "outputs": [
        {
          "output_type": "stream",
          "name": "stdout",
          "text": [
            "Found 39461 files belonging to 1 classes.\n",
            "<_BatchDataset element_spec=TensorSpec(shape=(None, 16, 16, 4), dtype=tf.float32, name=None)>\n"
          ]
        }
      ],
      "source": [
        "# ds = tf.keras.preprocessing.image_dataset_from_directory('/content/dataset', image_size=(16, 16), batch_size=1)\n",
        "train_dataset = tf.keras.utils.image_dataset_from_directory(\n",
        "    '/content/dataset',\n",
        "    batch_size=64,\n",
        "    image_size=(16, 16),\n",
        "    label_mode = None,\n",
        "    color_mode = \"rgba\")\n",
        "# train_dataset = tf.keras.utils.image_dataset_from_directory(\n",
        "#     '/content/dataset',\n",
        "#     validation_split=0.05,\n",
        "#     subset='training',\n",
        "#     seed=400,\n",
        "#     image_size=(16, 16),\n",
        "#     batch_size=64,\n",
        "#     label_mode = None,\n",
        "#     color_mode = \"rgba\")\n",
        "\n",
        "# validation_dataset = tf.keras.utils.image_dataset_from_directory(\n",
        "#     '/content/dataset',\n",
        "#     validation_split=0.05,\n",
        "#     subset='validation',\n",
        "#     seed=400,\n",
        "#     image_size=(16, 16),\n",
        "#     batch_size=64,\n",
        "#     label_mode = None,\n",
        "#     color_mode = \"rgba\")\n",
        "\n",
        "\n",
        "print(train_dataset)"
      ]
    },
    {
      "cell_type": "code",
      "execution_count": 24,
      "metadata": {
        "colab": {
          "base_uri": "https://localhost:8080/",
          "height": 430
        },
        "id": "dFqMJJaL172h",
        "outputId": "83d4ae98-2e0d-49ed-adec-be3ece1ada6c"
      },
      "outputs": [
        {
          "output_type": "display_data",
          "data": {
            "text/plain": [
              "<Figure size 640x480 with 1 Axes>"
            ],
            "image/png": "[encoded data removed]"
          },
          "metadata": {}
        }
      ],
      "source": [
        "for images in train_dataset:\n",
        "  image = images[0]\n",
        "  plt.imshow(image.numpy().astype(\"uint8\"))\n",
        "  plt.show()\n",
        "  break"
      ]
    },
    {
      "cell_type": "code",
      "execution_count": 25,
      "metadata": {
        "colab": {
          "base_uri": "https://localhost:8080/"
        },
        "id": "V7NDzDRx60Lt",
        "outputId": "7de911fb-e5a7-43ad-eea4-1a59d483c964"
      },
      "outputs": [
        {
          "output_type": "stream",
          "name": "stdout",
          "text": [
            "<_ShuffleDataset element_spec=TensorSpec(shape=(None, 16, 16, 4), dtype=tf.float32, name=None)>\n"
          ]
        }
      ],
      "source": [
        "def scale_img(img_ndarray):\n",
        "  processing = img_ndarray\n",
        "  return processing/255\n",
        "\n",
        "\n",
        "train_dataset = train_dataset.map(scale_img)\n",
        "train_dataset = train_dataset.cache()\n",
        "train_dataset = train_dataset.shuffle(buffer_size=128)\n",
        "train_dataset = train_dataset.prefetch(buffer_size=128)\n",
        "print(train_dataset)\n"
      ]
    },
    {
      "cell_type": "code",
      "execution_count": 26,
      "metadata": {
        "id": "1VXhyzvgLWkL"
      },
      "outputs": [],
      "source": [
        "def build_generator():\n",
        "  model = Sequential()\n",
        "\n",
        "  model.add(Dense((4*4*256), input_dim=128))\n",
        "  model.add(LeakyReLU(0.2))\n",
        "  model.add(Reshape((4, 4, 256)))\n",
        "\n",
        "  model.add(UpSampling2D())\n",
        "  model.add(Conv2D(256, 5, padding='same'))\n",
        "  model.add(LeakyReLU(0.2))\n",
        "\n",
        "  model.add(UpSampling2D())\n",
        "  model.add(Conv2D(128, 5, padding='same'))\n",
        "  model.add(LeakyReLU(0.2))\n",
        "\n",
        "  model.add(Conv2D(64, 5, padding='same'))\n",
        "  model.add(LeakyReLU(0.2))\n",
        "\n",
        "  model.add(Conv2D(32, 5, padding='same'))\n",
        "  model.add(LeakyReLU(0.2))\n",
        "\n",
        "  model.add(Conv2D(16, 5, padding='same'))\n",
        "  model.add(LeakyReLU(0.2))\n",
        "\n",
        "  model.add(Conv2D(8, 5, padding='same'))\n",
        "  model.add(LeakyReLU(0.2))\n",
        "\n",
        "  model.add(Conv2D(4, 5, padding='same', activation='sigmoid'))\n",
        "\n",
        "\n",
        "  return model"
      ]
    },
    {
      "cell_type": "code",
      "execution_count": 27,
      "metadata": {
        "colab": {
          "base_uri": "https://localhost:8080/"
        },
        "id": "8hM-inNjMiDT",
        "outputId": "41fe7323-5c85-4123-a892-3cc94526836a"
      },
      "outputs": [
        {
          "output_type": "stream",
          "name": "stdout",
          "text": [
            "Model: \"sequential\"\n",
            "_________________________________________________________________\n",
            " Layer (type)                Output Shape              Param #   \n",
            "=================================================================\n",
            " dense (Dense)               (None, 4096)              528384    \n",
            "                                                                 \n",
            " leaky_re_lu (LeakyReLU)     (None, 4096)              0         \n",
            "                                                                 \n",
            " reshape (Reshape)           (None, 4, 4, 256)         0         \n",
            "                                                                 \n",
            " up_sampling2d (UpSampling2D  (None, 8, 8, 256)        0         \n",
            " )                                                               \n",
            "                                                                 \n",
            " conv2d (Conv2D)             (None, 8, 8, 256)         1638656   \n",
            "                                                                 \n",
            " leaky_re_lu_1 (LeakyReLU)   (None, 8, 8, 256)         0         \n",
            "                                                                 \n",
            " up_sampling2d_1 (UpSampling  (None, 16, 16, 256)      0         \n",
            " 2D)                                                             \n",
            "                                                                 \n",
            " conv2d_1 (Conv2D)           (None, 16, 16, 128)       819328    \n",
            "                                                                 \n",
            " leaky_re_lu_2 (LeakyReLU)   (None, 16, 16, 128)       0         \n",
            "                                                                 \n",
            " conv2d_2 (Conv2D)           (None, 16, 16, 64)        204864    \n",
            "                                                                 \n",
            " leaky_re_lu_3 (LeakyReLU)   (None, 16, 16, 64)        0         \n",
            "                                                                 \n",
            " conv2d_3 (Conv2D)           (None, 16, 16, 32)        51232     \n",
            "                                                                 \n",
            " leaky_re_lu_4 (LeakyReLU)   (None, 16, 16, 32)        0         \n",
            "                                                                 \n",
            " conv2d_4 (Conv2D)           (None, 16, 16, 16)        12816     \n",
            "                                                                 \n",
            " leaky_re_lu_5 (LeakyReLU)   (None, 16, 16, 16)        0         \n",
            "                                                                 \n",
            " conv2d_5 (Conv2D)           (None, 16, 16, 8)         3208      \n",
            "                                                                 \n",
            " leaky_re_lu_6 (LeakyReLU)   (None, 16, 16, 8)         0         \n",
            "                                                                 \n",
            " conv2d_6 (Conv2D)           (None, 16, 16, 4)         804       \n",
            "                                                                 \n",
            "=================================================================\n",
            "Total params: 3,259,292\n",
            "Trainable params: 3,259,292\n",
            "Non-trainable params: 0\n",
            "_________________________________________________________________\n"
          ]
        }
      ],
      "source": [
        "build_generator().summary()"
      ]
    },
    {
      "cell_type": "code",
      "execution_count": 28,
      "metadata": {
        "id": "iiRk_qIpx47e"
      },
      "outputs": [],
      "source": [
        "def build_discriminator():\n",
        "  # input 16x16x3\n",
        "  model = Sequential()\n",
        "\n",
        "  model.add(Conv2D(512, 5, padding='valid', input_shape = (16, 16, 4)))\n",
        "  model.add(LeakyReLU(0.3))\n",
        "  model.add(Dropout(0.4))\n",
        "\n",
        "  model.add(Conv2D(512, 3, padding='valid'))\n",
        "  model.add(LeakyReLU(0.3))\n",
        "  model.add(Dropout(0.4))\n",
        "\n",
        "  model.add(Conv2D(256, 3, padding='valid'))\n",
        "  model.add(LeakyReLU(0.3))\n",
        "  model.add(Dropout(0.4))\n",
        "\n",
        "  model.add(Conv2D(128, 3, padding='valid'))\n",
        "  model.add(LeakyReLU(0.3))\n",
        "  model.add(Dropout(0.4))\n",
        "\n",
        "  model.add(Conv2D(64, 2, padding='valid'))\n",
        "  model.add(LeakyReLU(0.3))\n",
        "  model.add(Dropout(0.4))\n",
        "\n",
        "  model.add(Conv2D(32, 2, padding='valid'))\n",
        "  model.add(LeakyReLU(0.3))\n",
        "  model.add(Dropout(0.4))\n",
        "\n",
        "  model.add(Conv2D(16, 2, padding='valid'))\n",
        "  model.add(LeakyReLU(0.3))\n",
        "  model.add(Dropout(0.4))\n",
        "\n",
        "  model.add(Flatten())\n",
        "  model.add(Dense(1, activation='sigmoid'))\n",
        "\n",
        "\n",
        "\n",
        "  return model"
      ]
    },
    {
      "cell_type": "code",
      "execution_count": 29,
      "metadata": {
        "colab": {
          "base_uri": "https://localhost:8080/"
        },
        "id": "0WG_TD_s0OD8",
        "outputId": "42823bb4-6c09-4c49-96e0-3e8e4168dc95"
      },
      "outputs": [
        {
          "output_type": "stream",
          "name": "stdout",
          "text": [
            "Model: \"sequential_1\"\n",
            "_________________________________________________________________\n",
            " Layer (type)                Output Shape              Param #   \n",
            "=================================================================\n",
            " conv2d_7 (Conv2D)           (None, 12, 12, 512)       51712     \n",
            "                                                                 \n",
            " leaky_re_lu_7 (LeakyReLU)   (None, 12, 12, 512)       0         \n",
            "                                                                 \n",
            " dropout (Dropout)           (None, 12, 12, 512)       0         \n",
            "                                                                 \n",
            " conv2d_8 (Conv2D)           (None, 10, 10, 512)       2359808   \n",
            "                                                                 \n",
            " leaky_re_lu_8 (LeakyReLU)   (None, 10, 10, 512)       0         \n",
            "                                                                 \n",
            " dropout_1 (Dropout)         (None, 10, 10, 512)       0         \n",
            "                                                                 \n",
            " conv2d_9 (Conv2D)           (None, 8, 8, 256)         1179904   \n",
            "                                                                 \n",
            " leaky_re_lu_9 (LeakyReLU)   (None, 8, 8, 256)         0         \n",
            "                                                                 \n",
            " dropout_2 (Dropout)         (None, 8, 8, 256)         0         \n",
            "                                                                 \n",
            " conv2d_10 (Conv2D)          (None, 6, 6, 128)         295040    \n",
            "                                                                 \n",
            " leaky_re_lu_10 (LeakyReLU)  (None, 6, 6, 128)         0         \n",
            "                                                                 \n",
            " dropout_3 (Dropout)         (None, 6, 6, 128)         0         \n",
            "                                                                 \n",
            " conv2d_11 (Conv2D)          (None, 5, 5, 64)          32832     \n",
            "                                                                 \n",
            " leaky_re_lu_11 (LeakyReLU)  (None, 5, 5, 64)          0         \n",
            "                                                                 \n",
            " dropout_4 (Dropout)         (None, 5, 5, 64)          0         \n",
            "                                                                 \n",
            " conv2d_12 (Conv2D)          (None, 4, 4, 32)          8224      \n",
            "                                                                 \n",
            " leaky_re_lu_12 (LeakyReLU)  (None, 4, 4, 32)          0         \n",
            "                                                                 \n",
            " dropout_5 (Dropout)         (None, 4, 4, 32)          0         \n",
            "                                                                 \n",
            " conv2d_13 (Conv2D)          (None, 3, 3, 16)          2064      \n",
            "                                                                 \n",
            " leaky_re_lu_13 (LeakyReLU)  (None, 3, 3, 16)          0         \n",
            "                                                                 \n",
            " dropout_6 (Dropout)         (None, 3, 3, 16)          0         \n",
            "                                                                 \n",
            " flatten (Flatten)           (None, 144)               0         \n",
            "                                                                 \n",
            " dense_1 (Dense)             (None, 1)                 145       \n",
            "                                                                 \n",
            "=================================================================\n",
            "Total params: 3,929,729\n",
            "Trainable params: 3,929,729\n",
            "Non-trainable params: 0\n",
            "_________________________________________________________________\n"
          ]
        }
      ],
      "source": [
        "build_discriminator().summary()"
      ]
    },
    {
      "cell_type": "code",
      "execution_count": 30,
      "metadata": {
        "colab": {
          "base_uri": "https://localhost:8080/",
          "height": 1000
        },
        "id": "DfhNv6X4NuVJ",
        "outputId": "54d5faae-b514-49ad-c25a-146cb25564ba"
      },
      "outputs": [
        {
          "output_type": "stream",
          "name": "stdout",
          "text": [
            "1/1 [==============================] - 2s 2s/step\n",
            "[[[[0.50129628 0.49350333 0.49880677 0.49986055]\n",
            "   [0.50127608 0.49445897 0.50085878 0.49947378]\n",
            "   [0.50441170 0.48978692 0.49808121 0.49638662]\n",
            "   ...\n",
            "   [0.50051987 0.49419779 0.50141573 0.49782026]\n",
            "   [0.50108671 0.49599326 0.50138903 0.49969041]\n",
            "   [0.50285709 0.49926591 0.50252217 0.49833187]]\n",
            "\n",
            "  [[0.50182098 0.49075887 0.50249535 0.49707407]\n",
            "   [0.49971002 0.49435902 0.50068635 0.49959633]\n",
            "   [0.50309652 0.48913553 0.50102222 0.49903697]\n",
            "   ...\n",
            "   [0.49884278 0.49357894 0.50002754 0.49970084]\n",
            "   [0.49935246 0.49662322 0.50228196 0.50131857]\n",
            "   [0.50102043 0.49570391 0.50340164 0.49902296]]\n",
            "\n",
            "  [[0.50614697 0.49072671 0.50018215 0.49354497]\n",
            "   [0.49641934 0.49322948 0.50293040 0.49578840]\n",
            "   [0.50388813 0.48269174 0.49997520 0.49481380]\n",
            "   ...\n",
            "   [0.49966580 0.49240676 0.50696927 0.49994409]\n",
            "   [0.49974346 0.49262017 0.50585288 0.50048000]\n",
            "   [0.50134993 0.49066114 0.50684047 0.49982351]]\n",
            "\n",
            "  ...\n",
            "\n",
            "  [[0.49925616 0.48629478 0.51095921 0.49593696]\n",
            "   [0.50449014 0.48567918 0.51708215 0.50547034]\n",
            "   [0.50642115 0.46914440 0.50864214 0.50288606]\n",
            "   ...\n",
            "   [0.51434773 0.48720065 0.49700740 0.49401611]\n",
            "   [0.50701803 0.48614049 0.49382994 0.49059808]\n",
            "   [0.51197994 0.48783377 0.50097781 0.50061208]]\n",
            "\n",
            "  [[0.49502522 0.48636338 0.51443905 0.50415093]\n",
            "   [0.49450740 0.48222396 0.52281916 0.50819975]\n",
            "   [0.49533284 0.47633758 0.51197910 0.50488514]\n",
            "   ...\n",
            "   [0.49817285 0.49519515 0.49589550 0.50210166]\n",
            "   [0.50189209 0.48764217 0.49912509 0.49724212]\n",
            "   [0.50644535 0.49051759 0.49942714 0.50437015]]\n",
            "\n",
            "  [[0.49695122 0.49404573 0.50799978 0.50652635]\n",
            "   [0.50103158 0.49004602 0.51380402 0.50862271]\n",
            "   [0.50542927 0.48564944 0.50908768 0.50491250]\n",
            "   ...\n",
            "   [0.50309247 0.49108598 0.50495607 0.50386125]\n",
            "   [0.50154907 0.48990899 0.50487733 0.50009203]\n",
            "   [0.50338960 0.49226689 0.50540358 0.50267220]]]\n",
            "\n",
            "\n",
            " [[[0.49908376 0.49978152 0.49915767 0.49803591]\n",
            "   [0.49845922 0.49804607 0.49999750 0.49898502]\n",
            "   [0.49560446 0.49906036 0.50024307 0.49525732]\n",
            "   ...\n",
            "   [0.49943000 0.49423599 0.49842185 0.49372542]\n",
            "   [0.50053424 0.49743354 0.49840873 0.49699408]\n",
            "   [0.50197059 0.49683890 0.49952635 0.49829671]]\n",
            "\n",
            "  [[0.49951458 0.49516037 0.49859935 0.49681246]\n",
            "   [0.49911037 0.49516347 0.50160772 0.49994701]\n",
            "   [0.49831033 0.49358353 0.49998069 0.49530470]\n",
            "   ...\n",
            "   [0.50071424 0.49197218 0.50130385 0.49378794]\n",
            "   [0.50041270 0.50082600 0.49742150 0.49569413]\n",
            "   [0.50318015 0.49885049 0.49685749 0.49711847]]\n",
            "\n",
            "  [[0.49994075 0.49505875 0.49717376 0.49518266]\n",
            "   [0.50157541 0.49482653 0.49915415 0.50013578]\n",
            "   [0.49954408 0.48765510 0.49504483 0.49597034]\n",
            "   ...\n",
            "   [0.50047368 0.48878315 0.49477258 0.49257284]\n",
            "   [0.50003076 0.49654168 0.49836728 0.49702841]\n",
            "   [0.50233936 0.49367416 0.49686074 0.49604863]]\n",
            "\n",
            "  ...\n",
            "\n",
            "  [[0.50041252 0.48651189 0.50122935 0.49605832]\n",
            "   [0.50595057 0.49058604 0.50318503 0.49472958]\n",
            "   [0.49882865 0.47720635 0.50607413 0.49509263]\n",
            "   ...\n",
            "   [0.51625437 0.46723503 0.51096106 0.49979618]\n",
            "   [0.51150304 0.47432187 0.50740290 0.49460992]\n",
            "   [0.49909672 0.47751015 0.49934843 0.49523878]]\n",
            "\n",
            "  [[0.49679410 0.48940012 0.50295585 0.50722814]\n",
            "   [0.50134039 0.49233219 0.50603849 0.50916606]\n",
            "   [0.49327785 0.48098955 0.50311607 0.50758320]\n",
            "   ...\n",
            "   [0.50170445 0.47707120 0.50869828 0.50998169]\n",
            "   [0.50290561 0.47835028 0.50223553 0.50612140]\n",
            "   [0.50154668 0.48578078 0.49708220 0.50646490]]\n",
            "\n",
            "  [[0.49665722 0.49268255 0.50496584 0.50785732]\n",
            "   [0.50446516 0.49521258 0.50828403 0.50420880]\n",
            "   [0.50352335 0.48770699 0.50296819 0.50378537]\n",
            "   ...\n",
            "   [0.50510651 0.48348758 0.51392120 0.50645405]\n",
            "   [0.50086123 0.48110321 0.50970411 0.49746847]\n",
            "   [0.50343597 0.48632616 0.50570339 0.49813113]]]\n",
            "\n",
            "\n",
            " [[[0.49950102 0.50033069 0.49820203 0.50175953]\n",
            "   [0.49976981 0.49833715 0.49835357 0.50003397]\n",
            "   [0.49935985 0.49402142 0.49983484 0.49870136]\n",
            "   ...\n",
            "   [0.50307506 0.49332842 0.50251627 0.49690071]\n",
            "   [0.49904180 0.49915934 0.50410211 0.49683273]\n",
            "   [0.50625658 0.49877432 0.50120705 0.49889791]]\n",
            "\n",
            "  [[0.50069028 0.49836540 0.49822178 0.50285327]\n",
            "   [0.50009209 0.49357796 0.49815106 0.50216788]\n",
            "   [0.50097537 0.49230272 0.50192976 0.50224996]\n",
            "   ...\n",
            "   [0.49511519 0.48048991 0.50497061 0.49970657]\n",
            "   [0.49219012 0.48696131 0.50752187 0.49612075]\n",
            "   [0.49771842 0.49277169 0.50548297 0.49652621]]\n",
            "\n",
            "  [[0.50328493 0.49677533 0.49963787 0.50190097]\n",
            "   [0.50701731 0.49482208 0.49705350 0.50298941]\n",
            "   [0.50698173 0.49239218 0.49850833 0.49798539]\n",
            "   ...\n",
            "   [0.49495861 0.48067272 0.50261962 0.49618641]\n",
            "   [0.49032307 0.48698890 0.50364137 0.49281922]\n",
            "   [0.49341270 0.49311417 0.49990073 0.49590382]]\n",
            "\n",
            "  ...\n",
            "\n",
            "  [[0.50751626 0.48273140 0.50412744 0.49908435]\n",
            "   [0.51203763 0.48034441 0.50837475 0.49374372]\n",
            "   [0.50709587 0.46658620 0.50856847 0.49448577]\n",
            "   ...\n",
            "   [0.50507170 0.47962913 0.49434200 0.48265669]\n",
            "   [0.50832295 0.48783809 0.48706627 0.49373093]\n",
            "   [0.51523584 0.48711878 0.49351215 0.49808240]]\n",
            "\n",
            "  [[0.49551570 0.48091412 0.50628728 0.50626236]\n",
            "   [0.50087672 0.48234695 0.51411539 0.50422192]\n",
            "   [0.49411401 0.47454613 0.50820458 0.50273341]\n",
            "   ...\n",
            "   [0.49843386 0.48833027 0.49855271 0.50428462]\n",
            "   [0.50181806 0.49268919 0.49270663 0.50486469]\n",
            "   [0.50514323 0.49679241 0.49496469 0.50439364]]\n",
            "\n",
            "  [[0.49542221 0.48721009 0.50595647 0.50844616]\n",
            "   [0.50348347 0.49166694 0.51132661 0.50620669]\n",
            "   [0.50559098 0.48250732 0.50825906 0.50551265]\n",
            "   ...\n",
            "   [0.50923043 0.48573777 0.50753719 0.50863326]\n",
            "   [0.50464320 0.49268901 0.50138670 0.50331169]\n",
            "   [0.50684935 0.49560404 0.49926034 0.50154173]]]]\n",
            "----------------------------\n",
            "[[[[0.50129628 0.49350333 0.49880677 0.49986055]\n",
            "   [0.50127608 0.49445897 0.50085878 0.49947378]\n",
            "   [0.50441170 0.48978692 0.49808121 0.49638662]\n",
            "   ...\n",
            "   [0.50051987 0.49419779 0.50141573 0.49782026]\n",
            "   [0.50108671 0.49599326 0.50138903 0.49969041]\n",
            "   [0.50285709 0.49926591 0.50252217 0.49833187]]\n",
            "\n",
            "  [[0.50182098 0.49075887 0.50249535 0.49707407]\n",
            "   [0.49971002 0.49435902 0.50068635 0.49959633]\n",
            "   [0.50309652 0.48913553 0.50102222 0.49903697]\n",
            "   ...\n",
            "   [0.49884278 0.49357894 0.50002754 0.49970084]\n",
            "   [0.49935246 0.49662322 0.50228196 0.50131857]\n",
            "   [0.50102043 0.49570391 0.50340164 0.49902296]]\n",
            "\n",
            "  [[0.50614697 0.49072671 0.50018215 0.49354497]\n",
            "   [0.49641934 0.49322948 0.50293040 0.49578840]\n",
            "   [0.50388813 0.48269174 0.49997520 0.49481380]\n",
            "   ...\n",
            "   [0.49966580 0.49240676 0.50696927 0.49994409]\n",
            "   [0.49974346 0.49262017 0.50585288 0.50048000]\n",
            "   [0.50134993 0.49066114 0.50684047 0.49982351]]\n",
            "\n",
            "  ...\n",
            "\n",
            "  [[0.49925616 0.48629478 0.51095921 0.49593696]\n",
            "   [0.50449014 0.48567918 0.51708215 0.50547034]\n",
            "   [0.50642115 0.46914440 0.50864214 0.50288606]\n",
            "   ...\n",
            "   [0.51434773 0.48720065 0.49700740 0.49401611]\n",
            "   [0.50701803 0.48614049 0.49382994 0.49059808]\n",
            "   [0.51197994 0.48783377 0.50097781 0.50061208]]\n",
            "\n",
            "  [[0.49502522 0.48636338 0.51443905 0.50415093]\n",
            "   [0.49450740 0.48222396 0.52281916 0.50819975]\n",
            "   [0.49533284 0.47633758 0.51197910 0.50488514]\n",
            "   ...\n",
            "   [0.49817285 0.49519515 0.49589550 0.50210166]\n",
            "   [0.50189209 0.48764217 0.49912509 0.49724212]\n",
            "   [0.50644535 0.49051759 0.49942714 0.50437015]]\n",
            "\n",
            "  [[0.49695122 0.49404573 0.50799978 0.50652635]\n",
            "   [0.50103158 0.49004602 0.51380402 0.50862271]\n",
            "   [0.50542927 0.48564944 0.50908768 0.50491250]\n",
            "   ...\n",
            "   [0.50309247 0.49108598 0.50495607 0.50386125]\n",
            "   [0.50154907 0.48990899 0.50487733 0.50009203]\n",
            "   [0.50338960 0.49226689 0.50540358 0.50267220]]]\n",
            "\n",
            "\n",
            " [[[0.49908376 0.49978152 0.49915767 0.49803591]\n",
            "   [0.49845922 0.49804607 0.49999750 0.49898502]\n",
            "   [0.49560446 0.49906036 0.50024307 0.49525732]\n",
            "   ...\n",
            "   [0.49943000 0.49423599 0.49842185 0.49372542]\n",
            "   [0.50053424 0.49743354 0.49840873 0.49699408]\n",
            "   [0.50197059 0.49683890 0.49952635 0.49829671]]\n",
            "\n",
            "  [[0.49951458 0.49516037 0.49859935 0.49681246]\n",
            "   [0.49911037 0.49516347 0.50160772 0.49994701]\n",
            "   [0.49831033 0.49358353 0.49998069 0.49530470]\n",
            "   ...\n",
            "   [0.50071424 0.49197218 0.50130385 0.49378794]\n",
            "   [0.50041270 0.50082600 0.49742150 0.49569413]\n",
            "   [0.50318015 0.49885049 0.49685749 0.49711847]]\n",
            "\n",
            "  [[0.49994075 0.49505875 0.49717376 0.49518266]\n",
            "   [0.50157541 0.49482653 0.49915415 0.50013578]\n",
            "   [0.49954408 0.48765510 0.49504483 0.49597034]\n",
            "   ...\n",
            "   [0.50047368 0.48878315 0.49477258 0.49257284]\n",
            "   [0.50003076 0.49654168 0.49836728 0.49702841]\n",
            "   [0.50233936 0.49367416 0.49686074 0.49604863]]\n",
            "\n",
            "  ...\n",
            "\n",
            "  [[0.50041252 0.48651189 0.50122935 0.49605832]\n",
            "   [0.50595057 0.49058604 0.50318503 0.49472958]\n",
            "   [0.49882865 0.47720635 0.50607413 0.49509263]\n",
            "   ...\n",
            "   [0.51625437 0.46723503 0.51096106 0.49979618]\n",
            "   [0.51150304 0.47432187 0.50740290 0.49460992]\n",
            "   [0.49909672 0.47751015 0.49934843 0.49523878]]\n",
            "\n",
            "  [[0.49679410 0.48940012 0.50295585 0.50722814]\n",
            "   [0.50134039 0.49233219 0.50603849 0.50916606]\n",
            "   [0.49327785 0.48098955 0.50311607 0.50758320]\n",
            "   ...\n",
            "   [0.50170445 0.47707120 0.50869828 0.50998169]\n",
            "   [0.50290561 0.47835028 0.50223553 0.50612140]\n",
            "   [0.50154668 0.48578078 0.49708220 0.50646490]]\n",
            "\n",
            "  [[0.49665722 0.49268255 0.50496584 0.50785732]\n",
            "   [0.50446516 0.49521258 0.50828403 0.50420880]\n",
            "   [0.50352335 0.48770699 0.50296819 0.50378537]\n",
            "   ...\n",
            "   [0.50510651 0.48348758 0.51392120 0.50645405]\n",
            "   [0.50086123 0.48110321 0.50970411 0.49746847]\n",
            "   [0.50343597 0.48632616 0.50570339 0.49813113]]]\n",
            "\n",
            "\n",
            " [[[0.49950102 0.50033069 0.49820203 0.50175953]\n",
            "   [0.49976981 0.49833715 0.49835357 0.50003397]\n",
            "   [0.49935985 0.49402142 0.49983484 0.49870136]\n",
            "   ...\n",
            "   [0.50307506 0.49332842 0.50251627 0.49690071]\n",
            "   [0.49904180 0.49915934 0.50410211 0.49683273]\n",
            "   [0.50625658 0.49877432 0.50120705 0.49889791]]\n",
            "\n",
            "  [[0.50069028 0.49836540 0.49822178 0.50285327]\n",
            "   [0.50009209 0.49357796 0.49815106 0.50216788]\n",
            "   [0.50097537 0.49230272 0.50192976 0.50224996]\n",
            "   ...\n",
            "   [0.49511519 0.48048991 0.50497061 0.49970657]\n",
            "   [0.49219012 0.48696131 0.50752187 0.49612075]\n",
            "   [0.49771842 0.49277169 0.50548297 0.49652621]]\n",
            "\n",
            "  [[0.50328493 0.49677533 0.49963787 0.50190097]\n",
            "   [0.50701731 0.49482208 0.49705350 0.50298941]\n",
            "   [0.50698173 0.49239218 0.49850833 0.49798539]\n",
            "   ...\n",
            "   [0.49495861 0.48067272 0.50261962 0.49618641]\n",
            "   [0.49032307 0.48698890 0.50364137 0.49281922]\n",
            "   [0.49341270 0.49311417 0.49990073 0.49590382]]\n",
            "\n",
            "  ...\n",
            "\n",
            "  [[0.50751626 0.48273140 0.50412744 0.49908435]\n",
            "   [0.51203763 0.48034441 0.50837475 0.49374372]\n",
            "   [0.50709587 0.46658620 0.50856847 0.49448577]\n",
            "   ...\n",
            "   [0.50507170 0.47962913 0.49434200 0.48265669]\n",
            "   [0.50832295 0.48783809 0.48706627 0.49373093]\n",
            "   [0.51523584 0.48711878 0.49351215 0.49808240]]\n",
            "\n",
            "  [[0.49551570 0.48091412 0.50628728 0.50626236]\n",
            "   [0.50087672 0.48234695 0.51411539 0.50422192]\n",
            "   [0.49411401 0.47454613 0.50820458 0.50273341]\n",
            "   ...\n",
            "   [0.49843386 0.48833027 0.49855271 0.50428462]\n",
            "   [0.50181806 0.49268919 0.49270663 0.50486469]\n",
            "   [0.50514323 0.49679241 0.49496469 0.50439364]]\n",
            "\n",
            "  [[0.49542221 0.48721009 0.50595647 0.50844616]\n",
            "   [0.50348347 0.49166694 0.51132661 0.50620669]\n",
            "   [0.50559098 0.48250732 0.50825906 0.50551265]\n",
            "   ...\n",
            "   [0.50923043 0.48573777 0.50753719 0.50863326]\n",
            "   [0.50464320 0.49268901 0.50138670 0.50331169]\n",
            "   [0.50684935 0.49560404 0.49926034 0.50154173]]]]\n",
            "(3, 16, 16, 4)\n"
          ]
        },
        {
          "output_type": "display_data",
          "data": {
            "text/plain": [
              "<Figure size 640x480 with 1 Axes>"
            ],
            "image/png": "[encoded data removed]"
          },
          "metadata": {}
        },
        {
          "output_type": "display_data",
          "data": {
            "text/plain": [
              "<Figure size 640x480 with 1 Axes>"
            ],
            "image/png": "[encoded data removed]"
          },
          "metadata": {}
        },
        {
          "output_type": "display_data",
          "data": {
            "text/plain": [
              "<Figure size 640x480 with 1 Axes>"
            ],
            "image/png": "[encoded data removed]"
          },
          "metadata": {}
        }
      ],
      "source": [
        "generator = build_generator()\n",
        "img = generator.predict(np.random.randn(3, 128, 1))\n",
        "print(img)\n",
        "# img = img*255\n",
        "# img = img.astype('uint8')\n",
        "print('----------------------------')\n",
        "print(img)\n",
        "print(img.shape)\n",
        "for index in range(0, 3):\n",
        "  plt.imshow(img[index])\n",
        "  plt.show()"
      ]
    },
    {
      "cell_type": "code",
      "execution_count": 31,
      "metadata": {
        "colab": {
          "base_uri": "https://localhost:8080/"
        },
        "id": "bCmt9g061mHE",
        "outputId": "69d06a32-f9f5-4e8b-8003-67a0331e6c30"
      },
      "outputs": [
        {
          "output_type": "stream",
          "name": "stdout",
          "text": [
            "1/1 [==============================] - 0s 343ms/step\n"
          ]
        },
        {
          "output_type": "execute_result",
          "data": {
            "text/plain": [
              "array([[0.47617632],\n",
              "       [0.49766314],\n",
              "       [0.48321396],\n",
              "       [0.49582872],\n",
              "       [0.49218038],\n",
              "       [0.50241864],\n",
              "       [0.50019580],\n",
              "       [0.48860216],\n",
              "       [0.47903532],\n",
              "       [0.49261281],\n",
              "       [0.50011599],\n",
              "       [0.48648563],\n",
              "       [0.48352090],\n",
              "       [0.48043695],\n",
              "       [0.48784411],\n",
              "       [0.49707347]], dtype=float32)"
            ]
          },
          "metadata": {},
          "execution_count": 31
        }
      ],
      "source": [
        "discriminator = build_discriminator()\n",
        "discriminator.predict(tf.random.normal((16, 16, 16, 4)))"
      ]
    },
    {
      "cell_type": "code",
      "execution_count": 32,
      "metadata": {
        "id": "De6c1BwF34vz"
      },
      "outputs": [],
      "source": [
        "class MinecraftTextureGAN(Model):\n",
        "  def __init__(self, generator, discriminator, batch_size, *args, **kwargs):\n",
        "    super().__init__(*args, **kwargs)\n",
        "    self.generator = generator\n",
        "    self.discriminator = discriminator\n",
        "    self.batch_size = batch_size\n",
        "\n",
        "  def compile(self, g_loss, d_loss, g_optimizer, d_optimizer, *args, **kwargs):\n",
        "    super().compile(*args, **kwargs)\n",
        "\n",
        "    self.g_loss_f = g_loss\n",
        "    self.d_loss_f = d_loss\n",
        "    self.g_optimizer = g_optimizer\n",
        "    self.d_optimizer = d_optimizer\n",
        "\n",
        "    # self.g_optimizer.build(self.generator.trainable_variables)\n",
        "    # self.d_optimizer.build(self.discriminator.trainable_variables)\n",
        "\n",
        "  def train_step(self, batch_of_data):\n",
        "    # train the discriminator\n",
        "    with tf.GradientTape() as d_tape:\n",
        "      real_img = batch_of_data\n",
        "      # print(real_img.shape)\n",
        "\n",
        "      # TODO: use this when the early is used\n",
        "      self.batch_size = int(tf.shape(batch_of_data)[0].numpy())\n",
        "\n",
        "      fake_img = generator(np.random.randn(self.batch_size, 128, 1), training=False)\n",
        "      # print(fake_img.shape)\n",
        "\n",
        "      real_and_fake_img = tf.concat([real_img, fake_img], axis=0)\n",
        "\n",
        "      zeros = tf.zeros((self.batch_size, 1))\n",
        "      random_arr = np.random.uniform(low=0.0, high=0.15, size=zeros.shape)\n",
        "      zeros = zeros + random_arr\n",
        "\n",
        "      ones = tf.ones((self.batch_size, 1))\n",
        "      random_arr = np.random.uniform(low=0.0, high=0.15, size=ones.shape)\n",
        "      ones = ones - random_arr\n",
        "\n",
        "      real_and_fake_img_label = tf.concat([zeros, ones], axis=0)\n",
        "      discriminator_prediction = self.discriminator(real_and_fake_img, training=True)\n",
        "      # print(real_and_fake_img_label)\n",
        "      # print(discriminator_prediction.shape)\n",
        "      # print(real_and_fake_img_label.shape)\n",
        "      real_and_fake_img_label = tf.squeeze(real_and_fake_img_label)\n",
        "      discriminator_prediction = tf.squeeze(discriminator_prediction)\n",
        "\n",
        "      d_loss = self.d_loss_f(real_and_fake_img_label, discriminator_prediction)\n",
        "      # print(d_loss)\n",
        "\n",
        "    d_gradient = d_tape.gradient(d_loss, self.discriminator.trainable_variables)\n",
        "    self.d_optimizer.apply_gradients(zip(d_gradient, self.discriminator.trainable_variables))\n",
        "\n",
        "    # train the generator\n",
        "    with tf.GradientTape() as g_tape:\n",
        "      generated_images = self.generator(np.random.randn(self.batch_size, 128, 1), training=True)\n",
        "\n",
        "      trick_discriminator_prediction = self.discriminator(generated_images, training=False)\n",
        "      generated_label = tf.ones((self.batch_size, 1))\n",
        "      # print(trick_discriminator_prediction.shape)\n",
        "      # print(generated_label.shape)\n",
        "\n",
        "      generated_label = tf.squeeze(generated_label)\n",
        "      trick_discriminator_prediction = tf.squeeze(trick_discriminator_prediction)\n",
        "      g_loss = self.g_loss_f(generated_label, trick_discriminator_prediction)\n",
        "      # print(g_loss)\n",
        "\n",
        "    g_gradient = g_tape.gradient(g_loss, self.generator.trainable_variables)\n",
        "    self.g_optimizer.apply_gradients(zip(g_gradient, self.generator.trainable_variables))\n",
        "\n",
        "    return {'generator_loss': g_loss, 'discriminator_loss': d_loss}\n"
      ]
    },
    {
      "cell_type": "code",
      "execution_count": 33,
      "metadata": {
        "id": "wUE5P0nsfjYt"
      },
      "outputs": [],
      "source": [
        "class Monitor(Callback):\n",
        "  def __init__(self, num_img, seed_dim):\n",
        "    super().__init__()\n",
        "    self.num_img = num_img\n",
        "    self.seed_dim = seed_dim\n",
        "\n",
        "  def on_epoch_end(self, epoch, logs=None):\n",
        "    img = generator.predict(np.random.randn(self.num_img, 128, 1))\n",
        "    for i in range(self.num_img):\n",
        "      image = array_to_img(img[i])\n",
        "      image.save(os.path.join(f'images_{id}', f'texture_{epoch}_{i}.png'))\n",
        "\n"
      ]
    },
    {
      "cell_type": "code",
      "execution_count": 34,
      "metadata": {
        "colab": {
          "base_uri": "https://localhost:8080/"
        },
        "id": "hz-LfxcV-ocz",
        "outputId": "9cc1a351-c307-42dc-bf7a-bfc0a0789098"
      },
      "outputs": [
        {
          "output_type": "stream",
          "name": "stdout",
          "text": [
            "<_ShuffleDataset element_spec=TensorSpec(shape=(None, 16, 16, 4), dtype=tf.float32, name=None)>\n"
          ]
        }
      ],
      "source": [
        "print(train_dataset)"
      ]
    },
    {
      "cell_type": "code",
      "execution_count": 35,
      "metadata": {
        "colab": {
          "base_uri": "https://localhost:8080/"
        },
        "id": "t6vpx1fvDsHU",
        "outputId": "8fcdaabd-2432-4812-a74e-826dbb89480e"
      },
      "outputs": [
        {
          "output_type": "stream",
          "name": "stdout",
          "text": [
            "no previous model, make new model\n"
          ]
        }
      ],
      "source": [
        "try:\n",
        "  model_generator = load_model(f'minecraft_texture_generator_model_{id-1}.h5')\n",
        "  model_discriminator = load_model(f'minecraft_texture_discriminator_model_{id-1}.h5')\n",
        "  print(f\"model id:{id-1} loaded\")\n",
        "except:\n",
        "  model_generator = build_generator()\n",
        "  model_discriminator = build_discriminator()\n",
        "  print(f\"no previous model, make new model\")\n",
        "\n",
        "g_loss = BinaryCrossentropy()\n",
        "d_loss = BinaryCrossentropy()\n",
        "g_opt = Adam(learning_rate=0.00001)\n",
        "d_opt = Adam(learning_rate=0.00001)\n",
        "\n",
        "model = MinecraftTextureGAN(model_generator, model_discriminator, 64)\n",
        "model.compile(g_loss, d_loss, g_opt, d_opt)\n",
        "\n",
        "# history = model.fit(train_dataset, epochs=50)"
      ]
    },
    {
      "cell_type": "code",
      "source": [
        "history = model.fit(x=train_dataset, epochs=30, callbacks=[Monitor(3, 128)])"
      ],
      "metadata": {
        "colab": {
          "base_uri": "https://localhost:8080/"
        },
        "id": "7FA8yl80cNLB",
        "outputId": "26d0067e-29ae-4bb9-bf24-c96cf8f01397"
      },
      "execution_count": null,
      "outputs": [
        {
          "output_type": "stream",
          "name": "stdout",
          "text": [
            "Epoch 1/30\n",
            "124/617 [=====>........................] - ETA: 2:30 - generator_loss: 0.6787 - discriminator_loss: 0.6847"
          ]
        }
      ]
    },
    {
      "cell_type": "code",
      "source": [
        "img = model_generator.predict(np.random.randn(1, 128, 1))\n",
        "for i in range(1):\n",
        "  image = array_to_img(img[i])\n",
        "    # Check if the file exists\n",
        "  if os.path.exists(f'images_{id}/texture_output.png'):\n",
        "      # Delete the file\n",
        "      os.remove(f'images_{id}/texture_output.png')\n",
        "      print(f'File images/texture_output.png deleted.')\n",
        "  else:\n",
        "      print(f'File images/texture_output.png not found.')\n",
        "  image.save(os.path.join(f'images_{id}', f'texture_output.png'))"
      ],
      "metadata": {
        "id": "3sJP7tpWbq9a"
      },
      "execution_count": null,
      "outputs": []
    },
    {
      "cell_type": "code",
      "source": [
        "model_generator.save(f'minecraft_texture_generator_model_{id}.h5')\n",
        "model_discriminator.save(f'minecraft_texture_discriminator_model_{id}.h5')"
      ],
      "metadata": {
        "id": "E1RUydwA78fR"
      },
      "execution_count": null,
      "outputs": []
    }
  ],
  "metadata": {
    "accelerator": "GPU",
    "colab": {
      "provenance": [],
      "gpuType": "T4",
      "include_colab_link": true
    },
    "kernelspec": {
      "display_name": "Python 3",
      "name": "python3"
    },
    "language_info": {
      "name": "python"
    }
  },
  "nbformat": 4,
  "nbformat_minor": 0
}