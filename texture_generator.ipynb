{
  "cells": [
    {
      "cell_type": "markdown",
      "metadata": {
        "id": "view-in-github",
        "colab_type": "text"
      },
      "source": [
        "<a href=\"https://colab.research.google.com/github/dctime/minecraft-texture-generation/blob/main/texture_generator.ipynb\" target=\"_parent\"><img src=\"https://colab.research.google.com/assets/colab-badge.svg\" alt=\"Open In Colab\"/></a>"
      ]
    },
    {
      "cell_type": "code",
      "execution_count": 1,
      "metadata": {
        "id": "vlKAhtQ8Li2v"
      },
      "outputs": [],
      "source": [
        "try:\n",
        "  import shutil\n",
        "\n",
        "  shutil.rmtree('images')\n",
        "except:\n",
        "  pass\n",
        "\n",
        "import os\n",
        "# create new single directory\n",
        "os.mkdir('images')"
      ]
    },
    {
      "cell_type": "code",
      "execution_count": 2,
      "metadata": {
        "colab": {
          "base_uri": "https://localhost:8080/"
        },
        "id": "PpGZNhoSSliJ",
        "outputId": "57b553d7-db8b-43f4-b27a-e4e1eb588f29"
      },
      "outputs": [
        {
          "output_type": "stream",
          "name": "stdout",
          "text": [
            "Found GPU at: /device:GPU:0\n"
          ]
        }
      ],
      "source": [
        "import tensorflow as tf\n",
        "try:\n",
        "  device_name = tf.test.gpu_device_name()\n",
        "  if device_name != '/device:GPU:0':\n",
        "    raise SystemError('GPU device not found')\n",
        "  print('Found GPU at: {}'.format(device_name))\n",
        "except:\n",
        "  print(\"no gpu\")"
      ]
    },
    {
      "cell_type": "code",
      "execution_count": 3,
      "metadata": {
        "id": "8VSFy1rwL-O2",
        "colab": {
          "base_uri": "https://localhost:8080/"
        },
        "outputId": "49f2e453-63ae-426f-dfe0-e6a5aed7f253"
      },
      "outputs": [
        {
          "output_type": "stream",
          "name": "stdout",
          "text": [
            "2.12.0\n",
            "Eager execution: True\n"
          ]
        }
      ],
      "source": [
        "import zipfile\n",
        "import os\n",
        "import tensorflow as tf\n",
        "import matplotlib.pyplot as plt\n",
        "import numpy as np\n",
        "import pandas as pd\n",
        "from tensorflow.keras.models import Sequential\n",
        "from tensorflow.keras.layers import Conv2D, Dense, Flatten, Reshape, LeakyReLU, Dropout, UpSampling2D\n",
        "from tensorflow.keras import Model\n",
        "from tensorflow.keras.losses import BinaryCrossentropy\n",
        "from tensorflow.keras.optimizers import Adam\n",
        "from tensorflow.keras.preprocessing.image import array_to_img\n",
        "from tensorflow.keras.callbacks import Callback\n",
        "import os\n",
        "np.set_printoptions(floatmode='fixed')\n",
        "tf.config.run_functions_eagerly(True)\n",
        "print(tf.__version__)\n",
        "print(\"Eager execution:\", tf.executing_eagerly())"
      ]
    },
    {
      "cell_type": "code",
      "execution_count": 4,
      "metadata": {
        "id": "qf-liyECL7vH"
      },
      "outputs": [],
      "source": [
        "with zipfile.ZipFile('drive/MyDrive/Minecraft Texture Generator/minecraft_texture_16.zip', 'r') as zip_ref:\n",
        "    zip_ref.extractall('dataset')"
      ]
    },
    {
      "cell_type": "code",
      "execution_count": 5,
      "metadata": {
        "id": "-cU-OOGOMmnM"
      },
      "outputs": [],
      "source": [
        "# for filename in os.listdir('dataset/minecraft_texture_with_resize_16'):\n",
        "#     print(filename)"
      ]
    },
    {
      "cell_type": "code",
      "execution_count": 6,
      "metadata": {
        "colab": {
          "base_uri": "https://localhost:8080/"
        },
        "id": "WTLPWvTt0Ent",
        "outputId": "e674b697-0e2d-431c-8cd1-101c2818227e"
      },
      "outputs": [
        {
          "output_type": "stream",
          "name": "stdout",
          "text": [
            "Found 32094 files belonging to 1 classes.\n",
            "Using 30490 files for training.\n"
          ]
        },
        {
          "output_type": "stream",
          "name": "stderr",
          "text": [
            "/usr/local/lib/python3.10/dist-packages/tensorflow/python/data/ops/structured_function.py:254: UserWarning: Even though the `tf.config.experimental_run_functions_eagerly` option is set, this option does not apply to tf.data functions. To force eager execution of tf.data functions, please use `tf.data.experimental.enable_debug_mode()`.\n",
            "  warnings.warn(\n"
          ]
        },
        {
          "output_type": "stream",
          "name": "stdout",
          "text": [
            "Found 32094 files belonging to 1 classes.\n",
            "Using 1604 files for validation.\n",
            "<_BatchDataset element_spec=TensorSpec(shape=(None, 16, 16, 4), dtype=tf.float32, name=None)>\n",
            "<_BatchDataset element_spec=TensorSpec(shape=(None, 16, 16, 4), dtype=tf.float32, name=None)>\n"
          ]
        }
      ],
      "source": [
        "# ds = tf.keras.preprocessing.image_dataset_from_directory('/content/dataset', image_size=(16, 16), batch_size=1)\n",
        "# train_dataset = tf.keras.utils.image_dataset_from_directory(\n",
        "#     '/content/dataset',\n",
        "#     batch_size=16,\n",
        "#     image_size=(16, 16))\n",
        "train_dataset = tf.keras.utils.image_dataset_from_directory(\n",
        "    '/content/dataset',\n",
        "    validation_split=0.05,\n",
        "    subset='training',\n",
        "    seed=400,\n",
        "    image_size=(16, 16),\n",
        "    batch_size=64,\n",
        "    label_mode = None,\n",
        "    color_mode = \"rgba\")\n",
        "\n",
        "validation_dataset = tf.keras.utils.image_dataset_from_directory(\n",
        "    '/content/dataset',\n",
        "    validation_split=0.05,\n",
        "    subset='validation',\n",
        "    seed=400,\n",
        "    image_size=(16, 16),\n",
        "    batch_size=64,\n",
        "    label_mode = None,\n",
        "    color_mode = \"rgba\")\n",
        "\n",
        "\n",
        "print(train_dataset)\n",
        "print(validation_dataset)"
      ]
    },
    {
      "cell_type": "code",
      "execution_count": 7,
      "metadata": {
        "colab": {
          "base_uri": "https://localhost:8080/",
          "height": 430
        },
        "id": "dFqMJJaL172h",
        "outputId": "b1523298-6a8d-4fd7-a4c6-0dfed0029821"
      },
      "outputs": [
        {
          "output_type": "display_data",
          "data": {
            "text/plain": [
              "<Figure size 640x480 with 1 Axes>"
            ],
            "image/png": "[encoded data removed]"
          },
          "metadata": {}
        }
      ],
      "source": [
        "for images in train_dataset:\n",
        "  image = images[0]\n",
        "  plt.imshow(image.numpy().astype(\"uint8\"))\n",
        "  plt.show()\n",
        "  break"
      ]
    },
    {
      "cell_type": "code",
      "execution_count": 8,
      "metadata": {
        "colab": {
          "base_uri": "https://localhost:8080/"
        },
        "id": "V7NDzDRx60Lt",
        "outputId": "48d32e06-e670-40d5-f23f-0a24c7207f67"
      },
      "outputs": [
        {
          "output_type": "stream",
          "name": "stdout",
          "text": [
            "<_PrefetchDataset element_spec=TensorSpec(shape=(None, 16, 16, 4), dtype=tf.float32, name=None)>\n"
          ]
        }
      ],
      "source": [
        "def scale_img(img_ndarray):\n",
        "  processing = img_ndarray\n",
        "  return processing/255\n",
        "\n",
        "\n",
        "train_dataset = train_dataset.map(scale_img)\n",
        "train_dataset = train_dataset.cache()\n",
        "train_dataset = train_dataset.shuffle(buffer_size=128)\n",
        "train_dataset = train_dataset.prefetch(buffer_size=128)\n",
        "print(train_dataset)\n"
      ]
    },
    {
      "cell_type": "code",
      "execution_count": 9,
      "metadata": {
        "id": "1VXhyzvgLWkL"
      },
      "outputs": [],
      "source": [
        "def build_generator():\n",
        "  model = Sequential()\n",
        "\n",
        "  model.add(Dense((4*4*256), input_dim=128))\n",
        "  model.add(LeakyReLU(0.2))\n",
        "  model.add(Reshape((4, 4, 256)))\n",
        "\n",
        "  model.add(UpSampling2D())\n",
        "  model.add(Conv2D(256, 5, padding='same'))\n",
        "  model.add(LeakyReLU(0.2))\n",
        "\n",
        "  model.add(UpSampling2D())\n",
        "  model.add(Conv2D(128, 5, padding='same'))\n",
        "  model.add(LeakyReLU(0.2))\n",
        "\n",
        "  model.add(Conv2D(64, 5, padding='same'))\n",
        "  model.add(LeakyReLU(0.2))\n",
        "\n",
        "  model.add(Conv2D(32, 5, padding='same'))\n",
        "  model.add(LeakyReLU(0.2))\n",
        "\n",
        "  model.add(Conv2D(16, 5, padding='same'))\n",
        "  model.add(LeakyReLU(0.2))\n",
        "\n",
        "  model.add(Conv2D(8, 5, padding='same'))\n",
        "  model.add(LeakyReLU(0.2))\n",
        "\n",
        "  model.add(Conv2D(4, 5, padding='same', activation='sigmoid'))\n",
        "\n",
        "\n",
        "  return model"
      ]
    },
    {
      "cell_type": "code",
      "execution_count": 10,
      "metadata": {
        "colab": {
          "base_uri": "https://localhost:8080/"
        },
        "id": "8hM-inNjMiDT",
        "outputId": "838360ec-8beb-4fb1-a624-4954bdb8e93d"
      },
      "outputs": [
        {
          "output_type": "stream",
          "name": "stdout",
          "text": [
            "Model: \"sequential\"\n",
            "_________________________________________________________________\n",
            " Layer (type)                Output Shape              Param #   \n",
            "=================================================================\n",
            " dense (Dense)               (None, 4096)              528384    \n",
            "                                                                 \n",
            " leaky_re_lu (LeakyReLU)     (None, 4096)              0         \n",
            "                                                                 \n",
            " reshape (Reshape)           (None, 4, 4, 256)         0         \n",
            "                                                                 \n",
            " up_sampling2d (UpSampling2D  (None, 8, 8, 256)        0         \n",
            " )                                                               \n",
            "                                                                 \n",
            " conv2d (Conv2D)             (None, 8, 8, 256)         1638656   \n",
            "                                                                 \n",
            " leaky_re_lu_1 (LeakyReLU)   (None, 8, 8, 256)         0         \n",
            "                                                                 \n",
            " up_sampling2d_1 (UpSampling  (None, 16, 16, 256)      0         \n",
            " 2D)                                                             \n",
            "                                                                 \n",
            " conv2d_1 (Conv2D)           (None, 16, 16, 128)       819328    \n",
            "                                                                 \n",
            " leaky_re_lu_2 (LeakyReLU)   (None, 16, 16, 128)       0         \n",
            "                                                                 \n",
            " conv2d_2 (Conv2D)           (None, 16, 16, 64)        204864    \n",
            "                                                                 \n",
            " leaky_re_lu_3 (LeakyReLU)   (None, 16, 16, 64)        0         \n",
            "                                                                 \n",
            " conv2d_3 (Conv2D)           (None, 16, 16, 32)        51232     \n",
            "                                                                 \n",
            " leaky_re_lu_4 (LeakyReLU)   (None, 16, 16, 32)        0         \n",
            "                                                                 \n",
            " conv2d_4 (Conv2D)           (None, 16, 16, 16)        12816     \n",
            "                                                                 \n",
            " leaky_re_lu_5 (LeakyReLU)   (None, 16, 16, 16)        0         \n",
            "                                                                 \n",
            " conv2d_5 (Conv2D)           (None, 16, 16, 8)         3208      \n",
            "                                                                 \n",
            " leaky_re_lu_6 (LeakyReLU)   (None, 16, 16, 8)         0         \n",
            "                                                                 \n",
            " conv2d_6 (Conv2D)           (None, 16, 16, 4)         804       \n",
            "                                                                 \n",
            "=================================================================\n",
            "Total params: 3,259,292\n",
            "Trainable params: 3,259,292\n",
            "Non-trainable params: 0\n",
            "_________________________________________________________________\n"
          ]
        }
      ],
      "source": [
        "build_generator().summary()"
      ]
    },
    {
      "cell_type": "code",
      "execution_count": 11,
      "metadata": {
        "id": "iiRk_qIpx47e"
      },
      "outputs": [],
      "source": [
        "def build_discriminator():\n",
        "  # input 16x16x3\n",
        "  model = Sequential()\n",
        "\n",
        "  model.add(Conv2D(16, 5, padding='valid', input_shape = (16, 16, 4)))\n",
        "  model.add(LeakyReLU(0.3))\n",
        "  model.add(Dropout(0.4))\n",
        "\n",
        "  model.add(Conv2D(32, 3, padding='valid'))\n",
        "  model.add(LeakyReLU(0.3))\n",
        "  model.add(Dropout(0.4))\n",
        "\n",
        "  model.add(Conv2D(64, 3, padding='valid'))\n",
        "  model.add(LeakyReLU(0.3))\n",
        "  model.add(Dropout(0.4))\n",
        "\n",
        "  model.add(Conv2D(128, 3, padding='valid'))\n",
        "  model.add(LeakyReLU(0.3))\n",
        "  model.add(Dropout(0.4))\n",
        "\n",
        "  model.add(Conv2D(256, 2, padding='valid'))\n",
        "  model.add(LeakyReLU(0.3))\n",
        "  model.add(Dropout(0.4))\n",
        "\n",
        "  model.add(Conv2D(512, 2, padding='valid'))\n",
        "  model.add(LeakyReLU(0.3))\n",
        "  model.add(Dropout(0.4))\n",
        "\n",
        "  model.add(Conv2D(1024, 2, padding='valid'))\n",
        "  model.add(LeakyReLU(0.3))\n",
        "  model.add(Dropout(0.4))\n",
        "\n",
        "  model.add(Flatten())\n",
        "  model.add(Dense(1, activation='sigmoid'))\n",
        "\n",
        "\n",
        "\n",
        "  return model"
      ]
    },
    {
      "cell_type": "code",
      "execution_count": 12,
      "metadata": {
        "colab": {
          "base_uri": "https://localhost:8080/"
        },
        "id": "0WG_TD_s0OD8",
        "outputId": "1c34f2a8-52b6-463a-d7c6-5764a7caa159"
      },
      "outputs": [
        {
          "output_type": "stream",
          "name": "stdout",
          "text": [
            "Model: \"sequential_1\"\n",
            "_________________________________________________________________\n",
            " Layer (type)                Output Shape              Param #   \n",
            "=================================================================\n",
            " conv2d_7 (Conv2D)           (None, 12, 12, 16)        1616      \n",
            "                                                                 \n",
            " leaky_re_lu_7 (LeakyReLU)   (None, 12, 12, 16)        0         \n",
            "                                                                 \n",
            " dropout (Dropout)           (None, 12, 12, 16)        0         \n",
            "                                                                 \n",
            " conv2d_8 (Conv2D)           (None, 10, 10, 32)        4640      \n",
            "                                                                 \n",
            " leaky_re_lu_8 (LeakyReLU)   (None, 10, 10, 32)        0         \n",
            "                                                                 \n",
            " dropout_1 (Dropout)         (None, 10, 10, 32)        0         \n",
            "                                                                 \n",
            " conv2d_9 (Conv2D)           (None, 8, 8, 64)          18496     \n",
            "                                                                 \n",
            " leaky_re_lu_9 (LeakyReLU)   (None, 8, 8, 64)          0         \n",
            "                                                                 \n",
            " dropout_2 (Dropout)         (None, 8, 8, 64)          0         \n",
            "                                                                 \n",
            " conv2d_10 (Conv2D)          (None, 6, 6, 128)         73856     \n",
            "                                                                 \n",
            " leaky_re_lu_10 (LeakyReLU)  (None, 6, 6, 128)         0         \n",
            "                                                                 \n",
            " dropout_3 (Dropout)         (None, 6, 6, 128)         0         \n",
            "                                                                 \n",
            " conv2d_11 (Conv2D)          (None, 5, 5, 256)         131328    \n",
            "                                                                 \n",
            " leaky_re_lu_11 (LeakyReLU)  (None, 5, 5, 256)         0         \n",
            "                                                                 \n",
            " dropout_4 (Dropout)         (None, 5, 5, 256)         0         \n",
            "                                                                 \n",
            " conv2d_12 (Conv2D)          (None, 4, 4, 512)         524800    \n",
            "                                                                 \n",
            " leaky_re_lu_12 (LeakyReLU)  (None, 4, 4, 512)         0         \n",
            "                                                                 \n",
            " dropout_5 (Dropout)         (None, 4, 4, 512)         0         \n",
            "                                                                 \n",
            " conv2d_13 (Conv2D)          (None, 3, 3, 1024)        2098176   \n",
            "                                                                 \n",
            " leaky_re_lu_13 (LeakyReLU)  (None, 3, 3, 1024)        0         \n",
            "                                                                 \n",
            " dropout_6 (Dropout)         (None, 3, 3, 1024)        0         \n",
            "                                                                 \n",
            " flatten (Flatten)           (None, 9216)              0         \n",
            "                                                                 \n",
            " dense_1 (Dense)             (None, 1)                 9217      \n",
            "                                                                 \n",
            "=================================================================\n",
            "Total params: 2,862,129\n",
            "Trainable params: 2,862,129\n",
            "Non-trainable params: 0\n",
            "_________________________________________________________________\n"
          ]
        }
      ],
      "source": [
        "build_discriminator().summary()"
      ]
    },
    {
      "cell_type": "code",
      "execution_count": 13,
      "metadata": {
        "colab": {
          "base_uri": "https://localhost:8080/",
          "height": 1000
        },
        "id": "DfhNv6X4NuVJ",
        "outputId": "2418e83e-4284-4a3a-bc4f-5ec0c02a74f2"
      },
      "outputs": [
        {
          "output_type": "stream",
          "name": "stdout",
          "text": [
            "Model: \"sequential_2\"\n",
            "_________________________________________________________________\n",
            " Layer (type)                Output Shape              Param #   \n",
            "=================================================================\n",
            " dense_2 (Dense)             (None, 4096)              528384    \n",
            "                                                                 \n",
            " leaky_re_lu_14 (LeakyReLU)  (None, 4096)              0         \n",
            "                                                                 \n",
            " reshape_1 (Reshape)         (None, 4, 4, 256)         0         \n",
            "                                                                 \n",
            " up_sampling2d_2 (UpSampling  (None, 8, 8, 256)        0         \n",
            " 2D)                                                             \n",
            "                                                                 \n",
            " conv2d_14 (Conv2D)          (None, 8, 8, 256)         1638656   \n",
            "                                                                 \n",
            " leaky_re_lu_15 (LeakyReLU)  (None, 8, 8, 256)         0         \n",
            "                                                                 \n",
            " up_sampling2d_3 (UpSampling  (None, 16, 16, 256)      0         \n",
            " 2D)                                                             \n",
            "                                                                 \n",
            " conv2d_15 (Conv2D)          (None, 16, 16, 128)       819328    \n",
            "                                                                 \n",
            " leaky_re_lu_16 (LeakyReLU)  (None, 16, 16, 128)       0         \n",
            "                                                                 \n",
            " conv2d_16 (Conv2D)          (None, 16, 16, 64)        204864    \n",
            "                                                                 \n",
            " leaky_re_lu_17 (LeakyReLU)  (None, 16, 16, 64)        0         \n",
            "                                                                 \n",
            " conv2d_17 (Conv2D)          (None, 16, 16, 32)        51232     \n",
            "                                                                 \n",
            " leaky_re_lu_18 (LeakyReLU)  (None, 16, 16, 32)        0         \n",
            "                                                                 \n",
            " conv2d_18 (Conv2D)          (None, 16, 16, 16)        12816     \n",
            "                                                                 \n",
            " leaky_re_lu_19 (LeakyReLU)  (None, 16, 16, 16)        0         \n",
            "                                                                 \n",
            " conv2d_19 (Conv2D)          (None, 16, 16, 8)         3208      \n",
            "                                                                 \n",
            " leaky_re_lu_20 (LeakyReLU)  (None, 16, 16, 8)         0         \n",
            "                                                                 \n",
            " conv2d_20 (Conv2D)          (None, 16, 16, 4)         804       \n",
            "                                                                 \n",
            "=================================================================\n",
            "Total params: 3,259,292\n",
            "Trainable params: 3,259,292\n",
            "Non-trainable params: 0\n",
            "_________________________________________________________________\n",
            "1/1 [==============================] - 2s 2s/step\n",
            "[[[ 1.31103021]\n",
            "  [ 2.19432692]\n",
            "  [-0.03480166]\n",
            "  [ 1.48119991]\n",
            "  [-1.79590011]\n",
            "  [ 0.16755837]\n",
            "  [-0.35290754]\n",
            "  [ 0.70119204]\n",
            "  [-1.62012805]\n",
            "  [ 0.16945521]\n",
            "  [-1.79218833]\n",
            "  [ 0.20998006]\n",
            "  [ 0.63633750]\n",
            "  [-1.55486759]\n",
            "  [-0.33577427]\n",
            "  [ 0.61978360]\n",
            "  [-1.50947449]\n",
            "  [ 0.53391981]\n",
            "  [ 0.96373424]\n",
            "  [ 0.07197913]\n",
            "  [ 0.70400697]\n",
            "  [ 0.18985119]\n",
            "  [-0.72913358]\n",
            "  [ 0.32563616]\n",
            "  [-1.64129451]\n",
            "  [ 0.40128890]\n",
            "  [ 0.10003668]\n",
            "  [-1.25618825]\n",
            "  [-0.78188899]\n",
            "  [ 0.40385709]\n",
            "  [-0.48495463]\n",
            "  [-0.24386588]\n",
            "  [-1.39927630]\n",
            "  [ 2.04503779]\n",
            "  [-0.68543726]\n",
            "  [ 0.00698107]\n",
            "  [-0.93970109]\n",
            "  [ 1.45438029]\n",
            "  [ 0.57384418]\n",
            "  [ 1.10440106]\n",
            "  [-0.57688801]\n",
            "  [-0.33475962]\n",
            "  [ 0.65122293]\n",
            "  [-1.05020190]\n",
            "  [ 0.32751761]\n",
            "  [-1.51141740]\n",
            "  [ 0.33830358]\n",
            "  [ 0.26318011]\n",
            "  [ 0.72052290]\n",
            "  [ 0.09952872]\n",
            "  [-0.43052457]\n",
            "  [-1.45765398]\n",
            "  [-0.45687441]\n",
            "  [ 0.05053964]\n",
            "  [ 1.07160338]\n",
            "  [-0.89545211]\n",
            "  [ 1.31239773]\n",
            "  [-1.62889467]\n",
            "  [-0.86302478]\n",
            "  [ 0.11632353]\n",
            "  [-1.39461970]\n",
            "  [ 0.46501569]\n",
            "  [-1.29746706]\n",
            "  [-0.36029585]\n",
            "  [-1.66018266]\n",
            "  [-1.39635986]\n",
            "  [-0.92673059]\n",
            "  [-0.16342403]\n",
            "  [ 0.13305974]\n",
            "  [ 0.33467234]\n",
            "  [ 2.06723252]\n",
            "  [-0.85029690]\n",
            "  [-0.90645234]\n",
            "  [ 0.77397124]\n",
            "  [-0.69839964]\n",
            "  [-0.04917134]\n",
            "  [-0.82325652]\n",
            "  [-1.79511616]\n",
            "  [-0.26156453]\n",
            "  [-1.33555354]\n",
            "  [ 0.21967498]\n",
            "  [ 0.01643015]\n",
            "  [ 0.92740771]\n",
            "  [ 0.45977655]\n",
            "  [-0.43124461]\n",
            "  [-0.33346394]\n",
            "  [-1.60384880]\n",
            "  [-1.62222514]\n",
            "  [-0.70973624]\n",
            "  [-1.03153368]\n",
            "  [ 0.62844329]\n",
            "  [-0.42486391]\n",
            "  [ 0.46421979]\n",
            "  [ 0.73405256]\n",
            "  [-2.54520318]\n",
            "  [-0.68430634]\n",
            "  [ 0.40212265]\n",
            "  [-0.10462259]\n",
            "  [ 0.39184934]\n",
            "  [-0.05298274]\n",
            "  [ 0.01397306]\n",
            "  [-0.70256258]\n",
            "  [-0.78688784]\n",
            "  [-0.49549068]\n",
            "  [ 0.36991974]\n",
            "  [-0.29296020]\n",
            "  [ 0.09390496]\n",
            "  [-0.18931721]\n",
            "  [ 0.33595048]\n",
            "  [-1.79847984]\n",
            "  [ 2.03459059]\n",
            "  [ 0.71957447]\n",
            "  [ 0.60056849]\n",
            "  [ 1.01570372]\n",
            "  [ 0.65635847]\n",
            "  [-2.38731771]\n",
            "  [ 0.23762594]\n",
            "  [-0.58637577]\n",
            "  [-0.53523285]\n",
            "  [ 0.87884800]\n",
            "  [-0.55199590]\n",
            "  [ 1.11127873]\n",
            "  [-1.33779717]\n",
            "  [-1.64584631]\n",
            "  [-0.11930868]\n",
            "  [ 0.45198612]\n",
            "  [ 0.96801878]\n",
            "  [ 2.06572645]]\n",
            "\n",
            " [[-0.43071324]\n",
            "  [ 1.95330746]\n",
            "  [ 0.38353881]\n",
            "  [ 1.15071944]\n",
            "  [-0.67442732]\n",
            "  [-2.15266881]\n",
            "  [-0.40306264]\n",
            "  [ 1.03734100]\n",
            "  [ 1.10431909]\n",
            "  [-2.27950994]\n",
            "  [ 1.11709762]\n",
            "  [ 0.51850041]\n",
            "  [-0.96158204]\n",
            "  [ 1.37587297]\n",
            "  [-0.13739926]\n",
            "  [-1.41623159]\n",
            "  [-0.21221457]\n",
            "  [-0.62365605]\n",
            "  [-1.13763022]\n",
            "  [ 0.21807680]\n",
            "  [ 0.03057825]\n",
            "  [-0.00590272]\n",
            "  [ 0.91101158]\n",
            "  [ 0.93297392]\n",
            "  [-0.37337960]\n",
            "  [-0.99086698]\n",
            "  [-2.14632841]\n",
            "  [ 0.22774700]\n",
            "  [-1.19919661]\n",
            "  [ 0.67238562]\n",
            "  [-1.36961032]\n",
            "  [-0.68547503]\n",
            "  [ 1.88906736]\n",
            "  [ 0.19582463]\n",
            "  [-0.79401219]\n",
            "  [ 0.72421501]\n",
            "  [-0.94712451]\n",
            "  [-1.13829910]\n",
            "  [-0.39137521]\n",
            "  [-0.48348346]\n",
            "  [ 0.88628945]\n",
            "  [-1.13694502]\n",
            "  [-2.48363946]\n",
            "  [ 0.19844245]\n",
            "  [ 0.41427828]\n",
            "  [ 0.18685230]\n",
            "  [-0.92790349]\n",
            "  [ 0.38870442]\n",
            "  [-2.76113679]\n",
            "  [ 0.46023377]\n",
            "  [ 1.57532925]\n",
            "  [ 1.56634470]\n",
            "  [-0.02208204]\n",
            "  [-0.30647727]\n",
            "  [ 0.44786180]\n",
            "  [-0.60767919]\n",
            "  [-0.37647459]\n",
            "  [ 1.16806097]\n",
            "  [ 0.16786151]\n",
            "  [-0.07608039]\n",
            "  [-1.00301782]\n",
            "  [ 0.36225894]\n",
            "  [-0.32886728]\n",
            "  [ 0.61265405]\n",
            "  [-0.73206245]\n",
            "  [-0.32238600]\n",
            "  [ 0.32360049]\n",
            "  [ 0.15468253]\n",
            "  [ 0.32996402]\n",
            "  [ 0.05752393]\n",
            "  [-0.58439004]\n",
            "  [-0.22409799]\n",
            "  [ 0.62150170]\n",
            "  [-0.59213933]\n",
            "  [ 0.87138559]\n",
            "  [-0.79288817]\n",
            "  [-1.57667958]\n",
            "  [ 1.52992400]\n",
            "  [ 0.68903855]\n",
            "  [-2.32819270]\n",
            "  [ 2.71946856]\n",
            "  [ 2.01396217]\n",
            "  [-0.98193772]\n",
            "  [-0.69520846]\n",
            "  [ 1.13697930]\n",
            "  [-0.15153666]\n",
            "  [-0.42350825]\n",
            "  [-0.82605145]\n",
            "  [-0.70305265]\n",
            "  [-0.06981291]\n",
            "  [ 0.04201702]\n",
            "  [ 0.22719690]\n",
            "  [ 1.20396547]\n",
            "  [ 1.32845397]\n",
            "  [ 1.08362836]\n",
            "  [ 0.47567697]\n",
            "  [ 1.68844523]\n",
            "  [-1.54965470]\n",
            "  [-0.63714359]\n",
            "  [-1.53859435]\n",
            "  [-0.77754453]\n",
            "  [ 0.79828886]\n",
            "  [-0.48737495]\n",
            "  [ 1.30029269]\n",
            "  [ 0.07503096]\n",
            "  [-0.51850485]\n",
            "  [-1.11503589]\n",
            "  [-0.27503517]\n",
            "  [ 0.50030925]\n",
            "  [ 1.03540132]\n",
            "  [ 0.09828481]\n",
            "  [-1.29157816]\n",
            "  [ 0.23442120]\n",
            "  [-0.88900615]\n",
            "  [ 0.71898084]\n",
            "  [ 0.57432587]\n",
            "  [ 0.87574558]\n",
            "  [-1.41195673]\n",
            "  [-1.72326634]\n",
            "  [ 0.42922578]\n",
            "  [-0.14083688]\n",
            "  [ 0.45112160]\n",
            "  [-0.37847158]\n",
            "  [-0.13441483]\n",
            "  [-0.55250564]\n",
            "  [-0.39760080]\n",
            "  [ 1.86223098]\n",
            "  [ 0.56080555]]\n",
            "\n",
            " [[-2.18377454]\n",
            "  [ 0.46836760]\n",
            "  [ 0.09425236]\n",
            "  [-0.90273326]\n",
            "  [ 0.99733185]\n",
            "  [ 0.24221969]\n",
            "  [-0.73215719]\n",
            "  [ 0.17550873]\n",
            "  [-0.06169854]\n",
            "  [-0.24845421]\n",
            "  [ 0.41774137]\n",
            "  [ 0.83214319]\n",
            "  [-1.56895936]\n",
            "  [ 0.09198211]\n",
            "  [ 1.08088345]\n",
            "  [ 0.70978397]\n",
            "  [-0.91812225]\n",
            "  [ 0.34346260]\n",
            "  [-1.04110427]\n",
            "  [-0.23454174]\n",
            "  [-0.70323309]\n",
            "  [-0.58588502]\n",
            "  [ 0.11575680]\n",
            "  [ 0.24538374]\n",
            "  [ 1.19734012]\n",
            "  [ 0.97720020]\n",
            "  [-1.56418194]\n",
            "  [ 2.17282128]\n",
            "  [-2.53294132]\n",
            "  [ 0.18347045]\n",
            "  [ 0.29812270]\n",
            "  [-0.76699469]\n",
            "  [-0.18300053]\n",
            "  [-0.05272814]\n",
            "  [-0.67738906]\n",
            "  [ 0.07369387]\n",
            "  [-0.21894349]\n",
            "  [-0.56364248]\n",
            "  [ 1.12144817]\n",
            "  [ 0.87924088]\n",
            "  [-1.22057595]\n",
            "  [-1.23845778]\n",
            "  [ 0.38654278]\n",
            "  [-0.34542477]\n",
            "  [-1.05822461]\n",
            "  [-0.31288983]\n",
            "  [ 1.57511906]\n",
            "  [ 0.05161479]\n",
            "  [ 1.52754043]\n",
            "  [ 2.54716335]\n",
            "  [ 0.11934127]\n",
            "  [ 0.19483129]\n",
            "  [-0.31023596]\n",
            "  [ 0.39706422]\n",
            "  [-0.88025015]\n",
            "  [-0.56617561]\n",
            "  [ 1.09242160]\n",
            "  [-0.22538832]\n",
            "  [ 1.13509946]\n",
            "  [-0.91770629]\n",
            "  [-1.31819887]\n",
            "  [-0.63476573]\n",
            "  [-0.37475318]\n",
            "  [-0.84912120]\n",
            "  [ 0.79601555]\n",
            "  [ 1.31173365]\n",
            "  [-0.54765803]\n",
            "  [ 1.01003120]\n",
            "  [ 0.13518774]\n",
            "  [ 1.01516771]\n",
            "  [-0.90078757]\n",
            "  [-1.51079371]\n",
            "  [ 0.25048359]\n",
            "  [-0.47192566]\n",
            "  [ 0.22102462]\n",
            "  [ 0.55933184]\n",
            "  [ 1.03085025]\n",
            "  [ 0.18200220]\n",
            "  [ 0.29492054]\n",
            "  [ 1.13724700]\n",
            "  [-1.34810972]\n",
            "  [-0.26089169]\n",
            "  [-1.54660113]\n",
            "  [-0.22633282]\n",
            "  [ 0.01216963]\n",
            "  [-1.25142938]\n",
            "  [-0.35991005]\n",
            "  [-0.44837614]\n",
            "  [ 1.88269131]\n",
            "  [-0.38089992]\n",
            "  [ 1.15187272]\n",
            "  [ 0.93171189]\n",
            "  [ 2.42714949]\n",
            "  [ 0.24188611]\n",
            "  [ 0.40505040]\n",
            "  [-0.42595773]\n",
            "  [ 0.12848811]\n",
            "  [-0.42493611]\n",
            "  [-0.80152403]\n",
            "  [-1.44629232]\n",
            "  [-0.93040629]\n",
            "  [-0.77718401]\n",
            "  [-0.02804571]\n",
            "  [-2.13125052]\n",
            "  [ 0.48638750]\n",
            "  [ 1.77411647]\n",
            "  [-0.29756570]\n",
            "  [-0.27094157]\n",
            "  [ 0.04031519]\n",
            "  [-0.03063831]\n",
            "  [-0.05058109]\n",
            "  [-0.67761967]\n",
            "  [ 0.24403278]\n",
            "  [ 0.62148101]\n",
            "  [-0.24243500]\n",
            "  [ 0.00450550]\n",
            "  [ 0.63186398]\n",
            "  [ 1.33956765]\n",
            "  [-1.78978831]\n",
            "  [ 0.12366282]\n",
            "  [ 0.68032015]\n",
            "  [ 0.78691229]\n",
            "  [ 0.56267350]\n",
            "  [ 1.18173123]\n",
            "  [-0.98589149]\n",
            "  [-1.55932470]\n",
            "  [ 0.92026747]\n",
            "  [-0.31734217]]]\n"
          ]
        },
        {
          "output_type": "display_data",
          "data": {
            "text/plain": [
              "<Figure size 640x480 with 1 Axes>"
            ],
            "image/png": "[encoded data removed]"
          },
          "metadata": {}
        },
        {
          "output_type": "display_data",
          "data": {
            "text/plain": [
              "<Figure size 640x480 with 1 Axes>"
            ],
            "image/png": "[encoded data removed]"
          },
          "metadata": {}
        },
        {
          "output_type": "display_data",
          "data": {
            "text/plain": [
              "<Figure size 640x480 with 1 Axes>"
            ],
            "image/png": "[encoded data removed]"
          },
          "metadata": {}
        }
      ],
      "source": [
        "generator = build_generator()\n",
        "generator.summary()\n",
        "img = generator.predict(np.random.randn(3, 128, 1))\n",
        "print(np.random.randn(3, 128, 1))\n",
        "for index in range(0, 3):\n",
        "  img = img*255\n",
        "  plt.imshow(img[index].astype(\"uint8\"))\n",
        "  plt.show()"
      ]
    },
    {
      "cell_type": "code",
      "execution_count": 14,
      "metadata": {
        "colab": {
          "base_uri": "https://localhost:8080/"
        },
        "id": "bCmt9g061mHE",
        "outputId": "b94d02ab-3756-425d-abaa-13305b18b1c8"
      },
      "outputs": [
        {
          "output_type": "stream",
          "name": "stdout",
          "text": [
            "1/1 [==============================] - 0s 312ms/step\n"
          ]
        },
        {
          "output_type": "execute_result",
          "data": {
            "text/plain": [
              "array([[0.49392995],\n",
              "       [0.49155039],\n",
              "       [0.50019264],\n",
              "       [0.49113458],\n",
              "       [0.49329096],\n",
              "       [0.48733652],\n",
              "       [0.49740806],\n",
              "       [0.49691412],\n",
              "       [0.50041360],\n",
              "       [0.49729583],\n",
              "       [0.49190769],\n",
              "       [0.49381602],\n",
              "       [0.49508715],\n",
              "       [0.49898520],\n",
              "       [0.48697647],\n",
              "       [0.48911923]], dtype=float32)"
            ]
          },
          "metadata": {},
          "execution_count": 14
        }
      ],
      "source": [
        "discriminator = build_discriminator()\n",
        "discriminator.predict(tf.random.normal((16, 16, 16, 4)))"
      ]
    },
    {
      "cell_type": "code",
      "execution_count": 15,
      "metadata": {
        "colab": {
          "base_uri": "https://localhost:8080/"
        },
        "id": "WTn25XfEKHKP",
        "outputId": "028b9bd5-3877-42b7-db02-68e4c9a6e26b"
      },
      "outputs": [
        {
          "output_type": "stream",
          "name": "stdout",
          "text": [
            "477/477 [==============================] - 10s 19ms/step\n"
          ]
        },
        {
          "output_type": "execute_result",
          "data": {
            "text/plain": [
              "array([[0.49368939],\n",
              "       [0.49870452],\n",
              "       [0.49991062],\n",
              "       ...,\n",
              "       [0.49758852],\n",
              "       [0.49768430],\n",
              "       [0.49548924]], dtype=float32)"
            ]
          },
          "metadata": {},
          "execution_count": 15
        }
      ],
      "source": [
        "discriminator.predict(train_dataset)"
      ]
    },
    {
      "cell_type": "code",
      "execution_count": 16,
      "metadata": {
        "id": "De6c1BwF34vz"
      },
      "outputs": [],
      "source": [
        "class MinecraftTextureGAN(Model):\n",
        "  def __init__(self, generator, discriminator, batch_size, *args, **kwargs):\n",
        "    super().__init__(*args, **kwargs)\n",
        "    self.generator = generator\n",
        "    self.discriminator = discriminator\n",
        "    self.batch_size = batch_size\n",
        "\n",
        "  def compile(self, g_loss, d_loss, g_optimizer, d_optimizer, *args, **kwargs):\n",
        "    super().compile(*args, **kwargs)\n",
        "\n",
        "    self.g_loss_f = g_loss\n",
        "    self.d_loss_f = d_loss\n",
        "    self.g_optimizer = g_optimizer\n",
        "    self.d_optimizer = d_optimizer\n",
        "\n",
        "    # self.g_optimizer.build(self.generator.trainable_variables)\n",
        "    # self.d_optimizer.build(self.discriminator.trainable_variables)\n",
        "\n",
        "  def train_step(self, batch_of_data):\n",
        "    # train the discriminator\n",
        "    with tf.GradientTape() as d_tape:\n",
        "      real_img = batch_of_data\n",
        "      # print(real_img.shape)\n",
        "\n",
        "      # TODO: use this when the early is used\n",
        "      self.batch_size = int(tf.shape(batch_of_data)[0].numpy())\n",
        "\n",
        "      fake_img = generator(tf.random.normal((self.batch_size, 128, 1)), training=False)\n",
        "      # print(fake_img.shape)\n",
        "\n",
        "      real_and_fake_img = tf.concat([real_img, fake_img], axis=0)\n",
        "\n",
        "      zeros = tf.zeros((self.batch_size, 1))\n",
        "      random_arr = np.random.uniform(low=0.0, high=0.15, size=zeros.shape)\n",
        "      zeros = zeros + random_arr\n",
        "\n",
        "      ones = tf.ones((self.batch_size, 1))\n",
        "      random_arr = np.random.uniform(low=0.0, high=0.15, size=ones.shape)\n",
        "      ones = ones - random_arr\n",
        "\n",
        "      real_and_fake_img_label = tf.concat([zeros, ones], axis=0)\n",
        "      discriminator_prediction = self.discriminator(real_and_fake_img, training=True)\n",
        "      # print(real_and_fake_img_label)\n",
        "      # print(discriminator_prediction.shape)\n",
        "      # print(real_and_fake_img_label.shape)\n",
        "      real_and_fake_img_label = tf.squeeze(real_and_fake_img_label)\n",
        "      discriminator_prediction = tf.squeeze(discriminator_prediction)\n",
        "\n",
        "      d_loss = self.d_loss_f(real_and_fake_img_label, discriminator_prediction)\n",
        "      # print(d_loss)\n",
        "\n",
        "    d_gradient = d_tape.gradient(d_loss, self.discriminator.trainable_variables)\n",
        "    self.d_optimizer.apply_gradients(zip(d_gradient, self.discriminator.trainable_variables))\n",
        "\n",
        "    # train the generator\n",
        "    with tf.GradientTape() as g_tape:\n",
        "      generated_images = self.generator(tf.random.normal((self.batch_size, 128, 1)), training=True)\n",
        "\n",
        "      trick_discriminator_prediction = self.discriminator(generated_images, training=False)\n",
        "      generated_label = tf.ones((self.batch_size, 1))\n",
        "      # print(trick_discriminator_prediction.shape)\n",
        "      # print(generated_label.shape)\n",
        "\n",
        "      generated_label = tf.squeeze(generated_label)\n",
        "      trick_discriminator_prediction = tf.squeeze(trick_discriminator_prediction)\n",
        "      g_loss = self.g_loss_f(generated_label, trick_discriminator_prediction)\n",
        "      # print(g_loss)\n",
        "\n",
        "    g_gradient = g_tape.gradient(g_loss, self.generator.trainable_variables)\n",
        "    self.g_optimizer.apply_gradients(zip(g_gradient, self.generator.trainable_variables))\n",
        "\n",
        "    return {'generator_loss': g_loss, 'discriminator_loss': d_loss}\n"
      ]
    },
    {
      "cell_type": "code",
      "execution_count": 17,
      "metadata": {
        "id": "wUE5P0nsfjYt"
      },
      "outputs": [],
      "source": [
        "class Monitor(Callback):\n",
        "  def __init__(self, num_img, seed_dim):\n",
        "    super().__init__()\n",
        "    self.num_img = num_img\n",
        "    self.seed_dim = seed_dim\n",
        "\n",
        "  def on_epoch_end(self, epoch, logs=None):\n",
        "    random_seed = tf.random.uniform((self.num_img, self.seed_dim, 1))\n",
        "    generated_images = self.model.generator(random_seed)\n",
        "    generated_images *= 255 # turn it back to normal images\n",
        "    generated_images.numpy()\n",
        "    for i in range(self.num_img): # loop from index 0 to num_img-1\n",
        "      image = array_to_img(generated_images[i])\n",
        "      image.save(os.path.join('images', f'generated_images_{epoch}_{i}.png'))\n"
      ]
    },
    {
      "cell_type": "code",
      "execution_count": 18,
      "metadata": {
        "colab": {
          "base_uri": "https://localhost:8080/"
        },
        "id": "hz-LfxcV-ocz",
        "outputId": "9247a41b-0943-4083-8ced-06716390e20d"
      },
      "outputs": [
        {
          "output_type": "stream",
          "name": "stdout",
          "text": [
            "<_PrefetchDataset element_spec=TensorSpec(shape=(None, 16, 16, 4), dtype=tf.float32, name=None)>\n"
          ]
        }
      ],
      "source": [
        "print(train_dataset)"
      ]
    },
    {
      "cell_type": "code",
      "execution_count": null,
      "metadata": {
        "colab": {
          "base_uri": "https://localhost:8080/"
        },
        "id": "t6vpx1fvDsHU",
        "outputId": "ef140755-2d6c-402c-be3f-07bc1a2593f1"
      },
      "outputs": [
        {
          "output_type": "stream",
          "name": "stdout",
          "text": [
            "Epoch 1/50\n",
            "234/477 [=============>................] - ETA: 47s - generator_loss: 0.1381 - discriminator_loss: 0.3396"
          ]
        }
      ],
      "source": [
        "model = MinecraftTextureGAN(build_generator(), build_discriminator(), 64)\n",
        "model.compile(BinaryCrossentropy(), BinaryCrossentropy(), Adam(learning_rate=0.0001), Adam(learning_rate=0.0001))\n",
        "history = model.fit(x=train_dataset, epochs=50, callbacks=[Monitor(3, 128)])\n",
        "# history = model.fit(train_dataset, epochs=50)"
      ]
    }
  ],
  "metadata": {
    "accelerator": "GPU",
    "colab": {
      "provenance": [],
      "gpuType": "T4",
      "mount_file_id": "1wfKFKw2SUXQIcSWvbBy6FSo5w3qgf4rr",
      "authorship_tag": "ABX9TyOSGp/LS26yZFbq3wQIKKnT",
      "include_colab_link": true
    },
    "kernelspec": {
      "display_name": "Python 3",
      "name": "python3"
    },
    "language_info": {
      "name": "python"
    }
  },
  "nbformat": 4,
  "nbformat_minor": 0
}