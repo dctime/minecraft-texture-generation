{
  "nbformat": 4,
  "nbformat_minor": 0,
  "metadata": {
    "colab": {
      "provenance": [],
      "gpuType": "T4",
      "mount_file_id": "1wfKFKw2SUXQIcSWvbBy6FSo5w3qgf4rr",
      "authorship_tag": "ABX9TyOPlc/SOX7vBTEBuOqkIW+J",
      "include_colab_link": true
    },
    "kernelspec": {
      "name": "python3",
      "display_name": "Python 3"
    },
    "language_info": {
      "name": "python"
    },
    "accelerator": "GPU"
  },
  "cells": [
    {
      "cell_type": "markdown",
      "metadata": {
        "id": "view-in-github",
        "colab_type": "text"
      },
      "source": [
        "<a href=\"https://colab.research.google.com/github/dctime/minecraft-texture-generation/blob/main/texture_generator.ipynb\" target=\"_parent\"><img src=\"https://colab.research.google.com/assets/colab-badge.svg\" alt=\"Open In Colab\"/></a>"
      ]
    },
    {
      "cell_type": "code",
      "source": [
        "# import shutil\n",
        "\n",
        "# shutil.rmtree('.ipynb_checkpoints')"
      ],
      "metadata": {
        "id": "vlKAhtQ8Li2v"
      },
      "execution_count": 1,
      "outputs": []
    },
    {
      "cell_type": "code",
      "source": [
        "import tensorflow as tf\n",
        "try:\n",
        "  device_name = tf.test.gpu_device_name()\n",
        "  if device_name != '/device:GPU:0':\n",
        "    raise SystemError('GPU device not found')\n",
        "  print('Found GPU at: {}'.format(device_name))\n",
        "except:\n",
        "  print(\"no gpu\")"
      ],
      "metadata": {
        "colab": {
          "base_uri": "https://localhost:8080/"
        },
        "id": "PpGZNhoSSliJ",
        "outputId": "281710b6-4564-4d6a-b4f8-ea2b0b4cc0bc"
      },
      "execution_count": 2,
      "outputs": [
        {
          "output_type": "stream",
          "name": "stdout",
          "text": [
            "Found GPU at: /device:GPU:0\n"
          ]
        }
      ]
    },
    {
      "cell_type": "code",
      "source": [
        "import zipfile\n",
        "import os\n",
        "import tensorflow as tf\n",
        "import matplotlib.pyplot as plt\n",
        "import numpy as np\n",
        "import pandas as pd\n",
        "from tensorflow.keras.models import Sequential\n",
        "from tensorflow.keras.layers import Conv2D, Dense, Flatten, Reshape, LeakyReLU, Dropout, UpSampling2D\n",
        "from tensorflow.keras import Model\n",
        "from tensorflow.keras.losses import BinaryCrossentropy\n",
        "from tensorflow.keras.optimizers import Adam\n",
        "from tensorflow.keras.preprocessing.image import array_to_img\n",
        "from tensorflow.keras.callbacks import Callback\n",
        "import os\n",
        "np.set_printoptions(floatmode='fixed')"
      ],
      "metadata": {
        "id": "8VSFy1rwL-O2"
      },
      "execution_count": 3,
      "outputs": []
    },
    {
      "cell_type": "code",
      "source": [
        "with zipfile.ZipFile('drive/MyDrive/Minecraft Texture Generator/minecraft_texture_16.zip', 'r') as zip_ref:\n",
        "    zip_ref.extractall('dataset')"
      ],
      "metadata": {
        "id": "qf-liyECL7vH"
      },
      "execution_count": 4,
      "outputs": []
    },
    {
      "cell_type": "code",
      "source": [
        "# for filename in os.listdir('dataset/minecraft_texture_with_resize_16'):\n",
        "#     print(filename)"
      ],
      "metadata": {
        "id": "-cU-OOGOMmnM"
      },
      "execution_count": 5,
      "outputs": []
    },
    {
      "cell_type": "code",
      "execution_count": 6,
      "metadata": {
        "id": "WTLPWvTt0Ent",
        "colab": {
          "base_uri": "https://localhost:8080/"
        },
        "outputId": "23f689b4-f8fb-4506-8c78-5079b9923bf0"
      },
      "outputs": [
        {
          "output_type": "stream",
          "name": "stdout",
          "text": [
            "Found 32094 files belonging to 1 classes.\n",
            "Using 25676 files for training.\n",
            "Found 32094 files belonging to 1 classes.\n",
            "Using 6418 files for validation.\n",
            "<_BatchDataset element_spec=TensorSpec(shape=(None, 16, 16, 3), dtype=tf.float32, name=None)>\n",
            "<_BatchDataset element_spec=TensorSpec(shape=(None, 16, 16, 3), dtype=tf.float32, name=None)>\n"
          ]
        }
      ],
      "source": [
        "# ds = tf.keras.preprocessing.image_dataset_from_directory('/content/dataset', image_size=(16, 16), batch_size=1)\n",
        "# train_dataset = tf.keras.utils.image_dataset_from_directory(\n",
        "#     '/content/dataset',\n",
        "#     batch_size=16,\n",
        "#     image_size=(16, 16))\n",
        "train_dataset = tf.keras.utils.image_dataset_from_directory(\n",
        "    '/content/dataset',\n",
        "    validation_split=0.2,\n",
        "    subset='training',\n",
        "    seed=400,\n",
        "    image_size=(16, 16),\n",
        "    batch_size=28,\n",
        "    label_mode = None)\n",
        "\n",
        "validation_dataset = tf.keras.utils.image_dataset_from_directory(\n",
        "    '/content/dataset',\n",
        "    validation_split=0.2,\n",
        "    subset='validation',\n",
        "    seed=400,\n",
        "    image_size=(16, 16),\n",
        "    batch_size=28,\n",
        "    label_mode = None)\n",
        "\n",
        "\n",
        "print(train_dataset)\n",
        "print(validation_dataset)"
      ]
    },
    {
      "cell_type": "code",
      "source": [
        "for images in train_dataset:\n",
        "  image = images[0]\n",
        "  plt.imshow(image.numpy().astype(\"uint8\"))\n",
        "  plt.show()\n",
        "  break"
      ],
      "metadata": {
        "colab": {
          "base_uri": "https://localhost:8080/",
          "height": 430
        },
        "id": "dFqMJJaL172h",
        "outputId": "366d3fb5-f8cd-4c25-ac92-77e276157e8b"
      },
      "execution_count": 7,
      "outputs": [
        {
          "output_type": "display_data",
          "data": {
            "text/plain": [
              "<Figure size 640x480 with 1 Axes>"
            ],
            "image/png": "[encoded data removed]"
          },
          "metadata": {}
        }
      ]
    },
    {
      "cell_type": "code",
      "source": [
        "def scale_img(img_ndarray):\n",
        "  processing = img_ndarray\n",
        "  return processing/255\n",
        "\n",
        "\n",
        "train_dataset = train_dataset.map(scale_img)\n",
        "train_dataset = train_dataset.cache()\n",
        "train_dataset = train_dataset.shuffle(buffer_size=128)\n",
        "train_dataset = train_dataset.prefetch(buffer_size=128)\n",
        "print(train_dataset)\n"
      ],
      "metadata": {
        "colab": {
          "base_uri": "https://localhost:8080/"
        },
        "id": "V7NDzDRx60Lt",
        "outputId": "dbf94ed9-ce02-4166-cbec-ca7ba61854b4"
      },
      "execution_count": 8,
      "outputs": [
        {
          "output_type": "stream",
          "name": "stdout",
          "text": [
            "<_PrefetchDataset element_spec=TensorSpec(shape=(None, 16, 16, 3), dtype=tf.float32, name=None)>\n"
          ]
        }
      ]
    },
    {
      "cell_type": "code",
      "source": [
        "def build_generator():\n",
        "  model = Sequential()\n",
        "\n",
        "  model.add(Dense((4*4*128), input_dim=128))\n",
        "  model.add(LeakyReLU(0.2))\n",
        "  model.add(Reshape((4, 4, 128)))\n",
        "\n",
        "  model.add(UpSampling2D())\n",
        "  model.add(Conv2D(128, 5, padding='same'))\n",
        "  model.add(LeakyReLU(0.2))\n",
        "\n",
        "  model.add(UpSampling2D())\n",
        "  model.add(Conv2D(128, 5, padding='same'))\n",
        "  model.add(LeakyReLU(0.2))\n",
        "\n",
        "  model.add(Conv2D(128, 5, padding='same'))\n",
        "  model.add(LeakyReLU(0.2))\n",
        "\n",
        "  model.add(Conv2D(128, 5, padding='same'))\n",
        "  model.add(LeakyReLU(0.2))\n",
        "\n",
        "  model.add(Conv2D(3, 5, padding='same', activation='sigmoid'))\n",
        "\n",
        "\n",
        "  return model"
      ],
      "metadata": {
        "id": "1VXhyzvgLWkL"
      },
      "execution_count": 9,
      "outputs": []
    },
    {
      "cell_type": "code",
      "source": [
        "build_generator().summary()"
      ],
      "metadata": {
        "colab": {
          "base_uri": "https://localhost:8080/"
        },
        "id": "8hM-inNjMiDT",
        "outputId": "dc2d2000-69c4-4ce7-bacc-952bf2ea8d65"
      },
      "execution_count": 10,
      "outputs": [
        {
          "output_type": "stream",
          "name": "stdout",
          "text": [
            "Model: \"sequential\"\n",
            "_________________________________________________________________\n",
            " Layer (type)                Output Shape              Param #   \n",
            "=================================================================\n",
            " dense (Dense)               (None, 2048)              264192    \n",
            "                                                                 \n",
            " leaky_re_lu (LeakyReLU)     (None, 2048)              0         \n",
            "                                                                 \n",
            " reshape (Reshape)           (None, 4, 4, 128)         0         \n",
            "                                                                 \n",
            " up_sampling2d (UpSampling2D  (None, 8, 8, 128)        0         \n",
            " )                                                               \n",
            "                                                                 \n",
            " conv2d (Conv2D)             (None, 8, 8, 128)         409728    \n",
            "                                                                 \n",
            " leaky_re_lu_1 (LeakyReLU)   (None, 8, 8, 128)         0         \n",
            "                                                                 \n",
            " up_sampling2d_1 (UpSampling  (None, 16, 16, 128)      0         \n",
            " 2D)                                                             \n",
            "                                                                 \n",
            " conv2d_1 (Conv2D)           (None, 16, 16, 128)       409728    \n",
            "                                                                 \n",
            " leaky_re_lu_2 (LeakyReLU)   (None, 16, 16, 128)       0         \n",
            "                                                                 \n",
            " conv2d_2 (Conv2D)           (None, 16, 16, 128)       409728    \n",
            "                                                                 \n",
            " leaky_re_lu_3 (LeakyReLU)   (None, 16, 16, 128)       0         \n",
            "                                                                 \n",
            " conv2d_3 (Conv2D)           (None, 16, 16, 128)       409728    \n",
            "                                                                 \n",
            " leaky_re_lu_4 (LeakyReLU)   (None, 16, 16, 128)       0         \n",
            "                                                                 \n",
            " conv2d_4 (Conv2D)           (None, 16, 16, 3)         9603      \n",
            "                                                                 \n",
            "=================================================================\n",
            "Total params: 1,912,707\n",
            "Trainable params: 1,912,707\n",
            "Non-trainable params: 0\n",
            "_________________________________________________________________\n"
          ]
        }
      ]
    },
    {
      "cell_type": "code",
      "source": [
        "def build_discriminator():\n",
        "  # input 16x16x3\n",
        "  model = Sequential()\n",
        "\n",
        "  model.add(Conv2D(16, 5, padding='valid', input_shape = (16, 16, 3)))\n",
        "  model.add(LeakyReLU(0.3))\n",
        "\n",
        "  model.add(Conv2D(32, 3, padding='valid'))\n",
        "  model.add(LeakyReLU(0.3))\n",
        "\n",
        "  model.add(Conv2D(64, 3, padding='valid'))\n",
        "  model.add(LeakyReLU(0.3))\n",
        "\n",
        "  model.add(Conv2D(128, 3, padding='valid'))\n",
        "  model.add(LeakyReLU(0.3))\n",
        "\n",
        "  model.add(Conv2D(256, 3, padding='valid'))\n",
        "  model.add(LeakyReLU(0.3))\n",
        "\n",
        "  model.add(Conv2D(512, 3, padding='valid'))\n",
        "  model.add(LeakyReLU(0.3))\n",
        "\n",
        "  model.add(Flatten())\n",
        "  model.add(Dense(1, activation='sigmoid'))\n",
        "\n",
        "\n",
        "\n",
        "  return model"
      ],
      "metadata": {
        "id": "iiRk_qIpx47e"
      },
      "execution_count": 11,
      "outputs": []
    },
    {
      "cell_type": "code",
      "source": [
        "build_discriminator().summary()"
      ],
      "metadata": {
        "colab": {
          "base_uri": "https://localhost:8080/"
        },
        "id": "0WG_TD_s0OD8",
        "outputId": "2c80c5cc-b8d7-43d1-a9de-998dbe15be4a"
      },
      "execution_count": 12,
      "outputs": [
        {
          "output_type": "stream",
          "name": "stdout",
          "text": [
            "Model: \"sequential_1\"\n",
            "_________________________________________________________________\n",
            " Layer (type)                Output Shape              Param #   \n",
            "=================================================================\n",
            " conv2d_5 (Conv2D)           (None, 12, 12, 16)        1216      \n",
            "                                                                 \n",
            " leaky_re_lu_5 (LeakyReLU)   (None, 12, 12, 16)        0         \n",
            "                                                                 \n",
            " conv2d_6 (Conv2D)           (None, 10, 10, 32)        4640      \n",
            "                                                                 \n",
            " leaky_re_lu_6 (LeakyReLU)   (None, 10, 10, 32)        0         \n",
            "                                                                 \n",
            " conv2d_7 (Conv2D)           (None, 8, 8, 64)          18496     \n",
            "                                                                 \n",
            " leaky_re_lu_7 (LeakyReLU)   (None, 8, 8, 64)          0         \n",
            "                                                                 \n",
            " conv2d_8 (Conv2D)           (None, 6, 6, 128)         73856     \n",
            "                                                                 \n",
            " leaky_re_lu_8 (LeakyReLU)   (None, 6, 6, 128)         0         \n",
            "                                                                 \n",
            " conv2d_9 (Conv2D)           (None, 4, 4, 256)         295168    \n",
            "                                                                 \n",
            " leaky_re_lu_9 (LeakyReLU)   (None, 4, 4, 256)         0         \n",
            "                                                                 \n",
            " conv2d_10 (Conv2D)          (None, 2, 2, 512)         1180160   \n",
            "                                                                 \n",
            " leaky_re_lu_10 (LeakyReLU)  (None, 2, 2, 512)         0         \n",
            "                                                                 \n",
            " flatten (Flatten)           (None, 2048)              0         \n",
            "                                                                 \n",
            " dense_1 (Dense)             (None, 1)                 2049      \n",
            "                                                                 \n",
            "=================================================================\n",
            "Total params: 1,575,585\n",
            "Trainable params: 1,575,585\n",
            "Non-trainable params: 0\n",
            "_________________________________________________________________\n"
          ]
        }
      ]
    },
    {
      "cell_type": "code",
      "source": [
        "generator = build_generator()\n",
        "generator.summary()\n",
        "img = generator.predict(np.random.randn(3, 128, 1))\n",
        "print(np.random.randn(3, 128, 1))\n",
        "for index in range(3):\n",
        "  img = img*255\n",
        "  plt.imshow(img[index].astype(\"uint8\"))\n",
        "  plt.show()"
      ],
      "metadata": {
        "colab": {
          "base_uri": "https://localhost:8080/",
          "height": 1000
        },
        "id": "DfhNv6X4NuVJ",
        "outputId": "4848a37c-24ff-4373-8fdb-04f2ee44b410"
      },
      "execution_count": 13,
      "outputs": [
        {
          "output_type": "stream",
          "name": "stdout",
          "text": [
            "Model: \"sequential_2\"\n",
            "_________________________________________________________________\n",
            " Layer (type)                Output Shape              Param #   \n",
            "=================================================================\n",
            " dense_2 (Dense)             (None, 2048)              264192    \n",
            "                                                                 \n",
            " leaky_re_lu_11 (LeakyReLU)  (None, 2048)              0         \n",
            "                                                                 \n",
            " reshape_1 (Reshape)         (None, 4, 4, 128)         0         \n",
            "                                                                 \n",
            " up_sampling2d_2 (UpSampling  (None, 8, 8, 128)        0         \n",
            " 2D)                                                             \n",
            "                                                                 \n",
            " conv2d_11 (Conv2D)          (None, 8, 8, 128)         409728    \n",
            "                                                                 \n",
            " leaky_re_lu_12 (LeakyReLU)  (None, 8, 8, 128)         0         \n",
            "                                                                 \n",
            " up_sampling2d_3 (UpSampling  (None, 16, 16, 128)      0         \n",
            " 2D)                                                             \n",
            "                                                                 \n",
            " conv2d_12 (Conv2D)          (None, 16, 16, 128)       409728    \n",
            "                                                                 \n",
            " leaky_re_lu_13 (LeakyReLU)  (None, 16, 16, 128)       0         \n",
            "                                                                 \n",
            " conv2d_13 (Conv2D)          (None, 16, 16, 128)       409728    \n",
            "                                                                 \n",
            " leaky_re_lu_14 (LeakyReLU)  (None, 16, 16, 128)       0         \n",
            "                                                                 \n",
            " conv2d_14 (Conv2D)          (None, 16, 16, 128)       409728    \n",
            "                                                                 \n",
            " leaky_re_lu_15 (LeakyReLU)  (None, 16, 16, 128)       0         \n",
            "                                                                 \n",
            " conv2d_15 (Conv2D)          (None, 16, 16, 3)         9603      \n",
            "                                                                 \n",
            "=================================================================\n",
            "Total params: 1,912,707\n",
            "Trainable params: 1,912,707\n",
            "Non-trainable params: 0\n",
            "_________________________________________________________________\n",
            "1/1 [==============================] - 2s 2s/step\n",
            "[[[-3.44141334e-01]\n",
            "  [ 2.04031891e-01]\n",
            "  [ 1.39330359e+00]\n",
            "  [-6.04936993e-01]\n",
            "  [ 3.00791524e-01]\n",
            "  [-5.51150629e-01]\n",
            "  [ 1.47696823e+00]\n",
            "  [ 1.27764967e+00]\n",
            "  [ 3.69538583e-01]\n",
            "  [-9.96459606e-02]\n",
            "  [ 6.80239708e-01]\n",
            "  [ 4.07800238e-01]\n",
            "  [ 3.39613593e-01]\n",
            "  [-1.00419373e+00]\n",
            "  [-2.93823432e-01]\n",
            "  [-4.41969815e-01]\n",
            "  [ 7.70900795e-01]\n",
            "  [-1.02828957e+00]\n",
            "  [-3.04110200e-01]\n",
            "  [-9.68984119e-01]\n",
            "  [ 2.12991461e+00]\n",
            "  [-1.21299232e+00]\n",
            "  [-1.30207578e+00]\n",
            "  [-1.00155971e+00]\n",
            "  [-6.68633976e-01]\n",
            "  [-9.05273252e-01]\n",
            "  [ 2.14708584e+00]\n",
            "  [-2.95041322e-01]\n",
            "  [-2.02406267e-01]\n",
            "  [ 1.37884516e+00]\n",
            "  [-1.26110422e-01]\n",
            "  [ 7.27723537e-01]\n",
            "  [ 3.15015343e-01]\n",
            "  [-8.31565234e-01]\n",
            "  [-2.65292497e-01]\n",
            "  [-4.17735091e-01]\n",
            "  [-2.83977589e-01]\n",
            "  [-1.17988353e+00]\n",
            "  [ 8.97859154e-01]\n",
            "  [ 5.21181820e-01]\n",
            "  [-1.31566359e+00]\n",
            "  [ 1.22270129e-02]\n",
            "  [ 4.19478670e-01]\n",
            "  [-8.21991735e-01]\n",
            "  [-4.59860326e-01]\n",
            "  [ 1.84640959e+00]\n",
            "  [-4.74047020e-01]\n",
            "  [-1.06238794e+00]\n",
            "  [-7.86043547e-01]\n",
            "  [-1.80697551e+00]\n",
            "  [ 5.54059640e-01]\n",
            "  [ 7.87588842e-01]\n",
            "  [-7.68639452e-01]\n",
            "  [ 8.47149464e-01]\n",
            "  [ 8.67095692e-01]\n",
            "  [-6.32562260e-02]\n",
            "  [-6.54206336e-01]\n",
            "  [-2.09412914e-01]\n",
            "  [ 2.64310737e-01]\n",
            "  [-8.24469717e-01]\n",
            "  [ 2.58386706e-01]\n",
            "  [-1.21297066e+00]\n",
            "  [-9.14716428e-02]\n",
            "  [ 1.47845802e+00]\n",
            "  [ 1.82844506e+00]\n",
            "  [-1.04174522e+00]\n",
            "  [-3.51105581e-01]\n",
            "  [-1.32559061e-01]\n",
            "  [-8.11051352e-03]\n",
            "  [ 5.60532267e-01]\n",
            "  [ 6.57471290e-01]\n",
            "  [-1.43920270e+00]\n",
            "  [ 5.26707181e-02]\n",
            "  [-1.12308389e-01]\n",
            "  [ 3.85429184e-01]\n",
            "  [-6.40284439e-01]\n",
            "  [ 8.11161431e-01]\n",
            "  [ 4.45562617e-01]\n",
            "  [-9.99563705e-01]\n",
            "  [-8.74336087e-01]\n",
            "  [-2.61646750e-01]\n",
            "  [ 1.00403160e+00]\n",
            "  [ 1.95209781e+00]\n",
            "  [ 4.01008300e-01]\n",
            "  [-5.88237238e-01]\n",
            "  [-6.81408745e-01]\n",
            "  [ 1.58314400e+00]\n",
            "  [ 2.88372705e-01]\n",
            "  [ 1.05777610e-02]\n",
            "  [ 4.82994738e-01]\n",
            "  [-1.53683849e+00]\n",
            "  [-2.01483131e+00]\n",
            "  [-1.15768656e+00]\n",
            "  [ 6.29836315e-01]\n",
            "  [ 5.10553646e-02]\n",
            "  [-2.92015908e-01]\n",
            "  [ 9.56897190e-01]\n",
            "  [ 5.74970403e-01]\n",
            "  [-1.13354913e+00]\n",
            "  [ 3.85105278e-02]\n",
            "  [-1.54052995e+00]\n",
            "  [ 7.70432140e-01]\n",
            "  [-8.06792749e-01]\n",
            "  [-1.79312950e+00]\n",
            "  [ 7.45952727e-01]\n",
            "  [ 2.06005004e+00]\n",
            "  [-1.26421504e+00]\n",
            "  [-1.48571626e+00]\n",
            "  [-8.17903143e-02]\n",
            "  [ 5.88594504e-01]\n",
            "  [ 1.98041077e+00]\n",
            "  [ 8.52221586e-01]\n",
            "  [ 1.56442606e+00]\n",
            "  [-7.61949042e-01]\n",
            "  [ 5.13124993e-01]\n",
            "  [ 5.41099053e-02]\n",
            "  [ 5.69704318e-01]\n",
            "  [ 3.17761729e-01]\n",
            "  [-7.44148006e-01]\n",
            "  [-8.41649108e-01]\n",
            "  [-3.74493337e-01]\n",
            "  [-1.09706155e+00]\n",
            "  [ 9.00729058e-01]\n",
            "  [ 1.52083442e+00]\n",
            "  [ 1.13467103e+00]\n",
            "  [ 4.08978843e-01]\n",
            "  [ 9.11299517e-01]\n",
            "  [-6.59284913e-01]]\n",
            "\n",
            " [[ 6.21120467e-01]\n",
            "  [-1.36040625e+00]\n",
            "  [ 1.16579582e+00]\n",
            "  [ 8.94925919e-01]\n",
            "  [ 4.12852353e-01]\n",
            "  [-2.48977602e-01]\n",
            "  [ 3.88839692e-01]\n",
            "  [ 7.98738679e-01]\n",
            "  [ 4.18241194e-01]\n",
            "  [ 1.21951429e+00]\n",
            "  [ 1.35238736e+00]\n",
            "  [-1.49462615e+00]\n",
            "  [ 1.31004736e+00]\n",
            "  [-2.27721675e+00]\n",
            "  [-1.07829707e+00]\n",
            "  [-3.76483778e-01]\n",
            "  [-9.81052152e-01]\n",
            "  [ 1.97815347e+00]\n",
            "  [-8.23091197e-01]\n",
            "  [ 5.98739222e-02]\n",
            "  [ 1.02173924e+00]\n",
            "  [-9.53546479e-01]\n",
            "  [ 5.16270372e-02]\n",
            "  [-4.69566790e-01]\n",
            "  [ 3.46041110e-02]\n",
            "  [-1.46234890e+00]\n",
            "  [ 2.88625240e-01]\n",
            "  [ 2.39643295e-01]\n",
            "  [ 1.72493644e+00]\n",
            "  [-7.57837020e-01]\n",
            "  [-1.75842796e+00]\n",
            "  [ 6.23469623e-01]\n",
            "  [ 1.68532315e-01]\n",
            "  [-1.17205193e-01]\n",
            "  [-1.72302597e-01]\n",
            "  [ 4.23528792e-02]\n",
            "  [ 2.79076819e+00]\n",
            "  [ 2.75291386e-01]\n",
            "  [-7.24857657e-01]\n",
            "  [ 5.18695524e-01]\n",
            "  [-2.29782343e-01]\n",
            "  [ 1.41270108e+00]\n",
            "  [-4.49524407e-02]\n",
            "  [ 5.75841512e-01]\n",
            "  [ 1.98633575e-01]\n",
            "  [ 5.32206183e-01]\n",
            "  [ 2.19986099e-01]\n",
            "  [ 4.10225470e-01]\n",
            "  [ 2.76053966e+00]\n",
            "  [-5.29435942e-01]\n",
            "  [-9.18908775e-01]\n",
            "  [ 8.02002092e-01]\n",
            "  [-8.17574802e-01]\n",
            "  [-2.62658417e+00]\n",
            "  [-2.20759274e-02]\n",
            "  [ 5.62803310e-01]\n",
            "  [-1.25560177e+00]\n",
            "  [ 1.39666336e-01]\n",
            "  [ 7.64473453e-02]\n",
            "  [-6.91365030e-01]\n",
            "  [-4.78126474e-01]\n",
            "  [-8.67392990e-01]\n",
            "  [-5.97431085e-01]\n",
            "  [-8.93485296e-01]\n",
            "  [ 1.03675706e+00]\n",
            "  [-2.02356000e+00]\n",
            "  [ 8.22426649e-01]\n",
            "  [-1.68675245e+00]\n",
            "  [-3.35338786e-01]\n",
            "  [ 5.99687907e-01]\n",
            "  [-1.97549723e-01]\n",
            "  [-9.77329675e-01]\n",
            "  [ 1.19189085e+00]\n",
            "  [-9.08106536e-01]\n",
            "  [-1.13601085e-01]\n",
            "  [ 5.93615429e-01]\n",
            "  [-1.60726160e-01]\n",
            "  [ 3.98259870e-01]\n",
            "  [-7.59970575e-02]\n",
            "  [ 8.78728014e-03]\n",
            "  [-9.49072142e-01]\n",
            "  [-6.73566968e-01]\n",
            "  [ 8.55114743e-01]\n",
            "  [-1.01227988e-03]\n",
            "  [-9.88375216e-01]\n",
            "  [ 2.34143490e-01]\n",
            "  [ 8.63574927e-01]\n",
            "  [-2.26775916e+00]\n",
            "  [-1.53282602e+00]\n",
            "  [ 1.10650397e+00]\n",
            "  [-1.08420781e+00]\n",
            "  [-3.10026115e-01]\n",
            "  [ 1.29281707e+00]\n",
            "  [ 1.47129055e+00]\n",
            "  [-7.09878037e-01]\n",
            "  [ 5.58594487e-01]\n",
            "  [ 3.93829803e-02]\n",
            "  [-9.98992164e-02]\n",
            "  [-1.32913534e+00]\n",
            "  [ 4.87993291e-01]\n",
            "  [ 4.69582961e-01]\n",
            "  [-8.26228389e-01]\n",
            "  [ 2.22459017e-01]\n",
            "  [-1.22376035e+00]\n",
            "  [-9.50683673e-01]\n",
            "  [-2.99683146e-01]\n",
            "  [-1.31362195e+00]\n",
            "  [ 1.22085668e+00]\n",
            "  [-8.55076350e-01]\n",
            "  [ 3.30859964e-01]\n",
            "  [-1.46596625e+00]\n",
            "  [ 2.28695416e-01]\n",
            "  [ 4.15754008e-01]\n",
            "  [ 5.52965609e-01]\n",
            "  [ 1.46574192e+00]\n",
            "  [ 1.54757858e+00]\n",
            "  [-7.05083963e-02]\n",
            "  [ 8.62356511e-01]\n",
            "  [-9.36274950e-01]\n",
            "  [-1.24902618e+00]\n",
            "  [-8.33977275e-01]\n",
            "  [ 4.26139645e-01]\n",
            "  [-5.49818463e-01]\n",
            "  [ 1.95100551e-01]\n",
            "  [ 1.13849884e+00]\n",
            "  [-3.08518615e-02]\n",
            "  [-2.08370983e+00]\n",
            "  [ 8.48357767e-02]]\n",
            "\n",
            " [[-1.19814861e+00]\n",
            "  [-5.84617580e-01]\n",
            "  [-2.66323540e-01]\n",
            "  [ 4.47761657e-01]\n",
            "  [ 6.68596081e-01]\n",
            "  [-9.25075500e-01]\n",
            "  [ 7.42654229e-01]\n",
            "  [-6.88675793e-01]\n",
            "  [-8.59207822e-01]\n",
            "  [ 2.07986316e+00]\n",
            "  [ 8.12374592e-01]\n",
            "  [-4.79080884e-01]\n",
            "  [-4.08179954e-01]\n",
            "  [-8.75606660e-01]\n",
            "  [-2.83730275e-01]\n",
            "  [ 5.09361924e-01]\n",
            "  [ 1.58845005e+00]\n",
            "  [-8.38998792e-01]\n",
            "  [ 8.37186113e-01]\n",
            "  [-9.13497153e-01]\n",
            "  [ 2.31863782e+00]\n",
            "  [-9.05995168e-01]\n",
            "  [ 9.67077784e-01]\n",
            "  [-4.61001678e-01]\n",
            "  [ 2.56148100e-01]\n",
            "  [ 5.34334386e-01]\n",
            "  [-7.73481287e-01]\n",
            "  [-1.01658215e+00]\n",
            "  [-1.85083661e-03]\n",
            "  [ 3.37668281e-01]\n",
            "  [-1.00092269e-01]\n",
            "  [-4.78387914e-01]\n",
            "  [-3.40705903e-01]\n",
            "  [ 9.79199594e-01]\n",
            "  [-1.71220286e+00]\n",
            "  [ 8.14498823e-01]\n",
            "  [ 6.88753078e-01]\n",
            "  [ 8.47621128e-01]\n",
            "  [ 7.64623180e-01]\n",
            "  [ 4.04553431e-01]\n",
            "  [ 6.65739046e-01]\n",
            "  [ 4.75736782e-01]\n",
            "  [ 1.38898220e+00]\n",
            "  [-6.67582968e-01]\n",
            "  [-1.50282319e+00]\n",
            "  [ 8.38693546e-01]\n",
            "  [-9.04283848e-01]\n",
            "  [ 1.07398564e+00]\n",
            "  [-7.55885865e-01]\n",
            "  [ 2.23553389e-01]\n",
            "  [ 1.54979854e+00]\n",
            "  [ 1.79128337e+00]\n",
            "  [ 8.72036480e-01]\n",
            "  [-1.80864242e+00]\n",
            "  [ 1.12814486e+00]\n",
            "  [ 6.54613156e-01]\n",
            "  [-1.20291083e+00]\n",
            "  [-9.98522622e-01]\n",
            "  [ 1.33000830e+00]\n",
            "  [-2.16956639e+00]\n",
            "  [ 1.00166218e+00]\n",
            "  [-9.29640646e-01]\n",
            "  [ 1.45434175e-01]\n",
            "  [-3.77978703e-02]\n",
            "  [-1.37830980e+00]\n",
            "  [-6.04222099e-01]\n",
            "  [ 1.78038251e-01]\n",
            "  [-1.40504796e+00]\n",
            "  [ 6.47206181e-01]\n",
            "  [ 3.36195297e-01]\n",
            "  [ 2.09107616e-01]\n",
            "  [ 1.02366075e+00]\n",
            "  [ 1.13525923e+00]\n",
            "  [-7.25800386e-01]\n",
            "  [-1.70717496e+00]\n",
            "  [-2.84697307e-01]\n",
            "  [-1.24142932e+00]\n",
            "  [-1.59839908e+00]\n",
            "  [-6.81700018e-02]\n",
            "  [ 5.31773435e-01]\n",
            "  [ 1.46651975e-01]\n",
            "  [-2.51278634e+00]\n",
            "  [-2.40108110e-01]\n",
            "  [-4.58707729e-01]\n",
            "  [ 3.74966845e-01]\n",
            "  [-9.17746974e-01]\n",
            "  [-4.79916084e-01]\n",
            "  [-1.24168431e+00]\n",
            "  [-4.53019867e-01]\n",
            "  [ 6.41436709e-01]\n",
            "  [-6.61974569e-01]\n",
            "  [-4.00158796e-01]\n",
            "  [-7.23789365e-01]\n",
            "  [-1.29513836e+00]\n",
            "  [-3.47446664e-01]\n",
            "  [ 2.03968380e+00]\n",
            "  [ 1.42362591e-01]\n",
            "  [-1.90893419e-01]\n",
            "  [ 7.58495917e-01]\n",
            "  [-1.58376994e-01]\n",
            "  [-1.80344113e-01]\n",
            "  [ 7.54820364e-01]\n",
            "  [ 4.78911537e-01]\n",
            "  [ 4.24484591e-01]\n",
            "  [ 1.35132955e+00]\n",
            "  [-8.75161527e-01]\n",
            "  [ 7.35914836e-01]\n",
            "  [ 2.11377209e+00]\n",
            "  [-2.11254245e-01]\n",
            "  [ 1.93699884e-01]\n",
            "  [ 1.46544730e+00]\n",
            "  [ 1.87749968e+00]\n",
            "  [-1.28023184e+00]\n",
            "  [-1.03666696e+00]\n",
            "  [-8.27611467e-01]\n",
            "  [ 7.61106893e-02]\n",
            "  [ 1.16740036e+00]\n",
            "  [ 2.33494178e+00]\n",
            "  [ 8.85893977e-02]\n",
            "  [ 5.07242801e-01]\n",
            "  [-3.09612670e-01]\n",
            "  [-1.08972558e+00]\n",
            "  [-1.84274183e+00]\n",
            "  [-8.79602124e-01]\n",
            "  [-7.10471204e-01]\n",
            "  [ 1.81225768e+00]\n",
            "  [-5.81658446e-01]\n",
            "  [ 6.94053989e-01]]]\n"
          ]
        },
        {
          "output_type": "display_data",
          "data": {
            "text/plain": [
              "<Figure size 640x480 with 1 Axes>"
            ],
            "image/png": "[encoded data removed]"
          },
          "metadata": {}
        },
        {
          "output_type": "display_data",
          "data": {
            "text/plain": [
              "<Figure size 640x480 with 1 Axes>"
            ],
            "image/png": "[encoded data removed]"
          },
          "metadata": {}
        },
        {
          "output_type": "display_data",
          "data": {
            "text/plain": [
              "<Figure size 640x480 with 1 Axes>"
            ],
            "image/png": "[encoded data removed]"
          },
          "metadata": {}
        }
      ]
    },
    {
      "cell_type": "code",
      "source": [
        "discriminator = build_discriminator()\n",
        "discriminator.predict(tf.random.normal((16, 16, 16, 3)))"
      ],
      "metadata": {
        "colab": {
          "base_uri": "https://localhost:8080/"
        },
        "id": "bCmt9g061mHE",
        "outputId": "0c058ffc-1a7b-43f6-8764-ba51f24917a4"
      },
      "execution_count": 14,
      "outputs": [
        {
          "output_type": "stream",
          "name": "stdout",
          "text": [
            "1/1 [==============================] - 0s 310ms/step\n"
          ]
        },
        {
          "output_type": "execute_result",
          "data": {
            "text/plain": [
              "array([[0.47895715],\n",
              "       [0.47546694],\n",
              "       [0.48979715],\n",
              "       [0.48130482],\n",
              "       [0.47823042],\n",
              "       [0.49165732],\n",
              "       [0.48063010],\n",
              "       [0.49011308],\n",
              "       [0.48315653],\n",
              "       [0.49089292],\n",
              "       [0.48526078],\n",
              "       [0.47179699],\n",
              "       [0.47850424],\n",
              "       [0.47473773],\n",
              "       [0.48290849],\n",
              "       [0.48759094]], dtype=float32)"
            ]
          },
          "metadata": {},
          "execution_count": 14
        }
      ]
    },
    {
      "cell_type": "code",
      "source": [
        "discriminator.predict(train_dataset)"
      ],
      "metadata": {
        "colab": {
          "base_uri": "https://localhost:8080/"
        },
        "id": "WTn25XfEKHKP",
        "outputId": "e8ca435a-84e9-4b40-dd0f-daeaa1a35ae3"
      },
      "execution_count": 15,
      "outputs": [
        {
          "output_type": "stream",
          "name": "stdout",
          "text": [
            "917/917 [==============================] - 6s 6ms/step\n"
          ]
        },
        {
          "output_type": "execute_result",
          "data": {
            "text/plain": [
              "array([[0.49535114],\n",
              "       [0.49451649],\n",
              "       [0.49750224],\n",
              "       ...,\n",
              "       [0.48897997],\n",
              "       [0.49686137],\n",
              "       [0.49922961]], dtype=float32)"
            ]
          },
          "metadata": {},
          "execution_count": 15
        }
      ]
    },
    {
      "cell_type": "code",
      "source": [
        "class MinecraftTextureGAN(Model):\n",
        "  def __init__(self, generator, discriminator, batch_size, *args, **kwargs):\n",
        "    super().__init__(*args, **kwargs)\n",
        "    self.generator = generator\n",
        "    self.discriminator = discriminator\n",
        "    self.batch_size = batch_size\n",
        "\n",
        "  def compile(self, g_loss, d_loss, g_optimizer, d_optimizer, *args, **kwargs):\n",
        "    super().compile(*args, **kwargs)\n",
        "\n",
        "    self.g_loss_f = g_loss\n",
        "    self.d_loss_f = d_loss\n",
        "    self.g_optimizer = g_optimizer\n",
        "    self.d_optimizer = d_optimizer\n",
        "\n",
        "    # self.g_optimizer.build(self.generator.trainable_variables)\n",
        "    # self.d_optimizer.build(self.discriminator.trainable_variables)\n",
        "\n",
        "  def train_step(self, batch_of_data):\n",
        "    try:\n",
        "      # train the discriminator\n",
        "      with tf.GradientTape() as d_tape:\n",
        "        real_img = batch_of_data\n",
        "        # print(real_img.shape)\n",
        "        fake_img = generator(tf.random.normal((self.batch_size, 128, 1)), training=False)\n",
        "        # print(fake_img.shape)\n",
        "\n",
        "        real_and_fake_img = tf.concat([real_img, fake_img], axis=0)\n",
        "\n",
        "        zeros = tf.zeros((self.batch_size, 1))\n",
        "        random_arr = np.random.uniform(low=0.0, high=0.15, size=zeros.shape)\n",
        "        zeros = zeros + random_arr\n",
        "\n",
        "        ones = tf.ones((self.batch_size, 1))\n",
        "        random_arr = np.random.uniform(low=0.0, high=0.15, size=ones.shape)\n",
        "        ones = ones - random_arr\n",
        "\n",
        "        real_and_fake_img_label = tf.concat([zeros, ones], axis=0)\n",
        "        discriminator_prediction = self.discriminator(real_and_fake_img, training=True)\n",
        "        # print(real_and_fake_img_label)\n",
        "        # print(discriminator_prediction.shape)\n",
        "        # print(real_and_fake_img_label.shape)\n",
        "        real_and_fake_img_label = tf.squeeze(real_and_fake_img_label)\n",
        "        discriminator_prediction = tf.squeeze(discriminator_prediction)\n",
        "\n",
        "        d_loss = self.d_loss_f(real_and_fake_img_label, discriminator_prediction)\n",
        "        # print(d_loss)\n",
        "\n",
        "      d_gradient = d_tape.gradient(d_loss, self.discriminator.trainable_variables)\n",
        "      self.d_optimizer.apply_gradients(zip(d_gradient, self.discriminator.trainable_variables))\n",
        "\n",
        "      # train the generator\n",
        "      with tf.GradientTape() as g_tape:\n",
        "        generated_images = self.generator(tf.random.normal((self.batch_size, 128, 1)), training=True)\n",
        "\n",
        "        trick_discriminator_prediction = self.discriminator(generated_images, training=False)\n",
        "        generated_label = tf.ones((self.batch_size, 1))\n",
        "        # print(trick_discriminator_prediction.shape)\n",
        "        # print(generated_label.shape)\n",
        "\n",
        "        generated_label = tf.squeeze(generated_label)\n",
        "        trick_discriminator_prediction = tf.squeeze(trick_discriminator_prediction)\n",
        "        g_loss = self.g_loss_f(generated_label, trick_discriminator_prediction)\n",
        "        # print(g_loss)\n",
        "\n",
        "      g_gradient = g_tape.gradient(g_loss, self.generator.trainable_variables)\n",
        "      self.g_optimizer.apply_gradients(zip(g_gradient, self.generator.trainable_variables))\n",
        "\n",
        "      return {'generator_loss': g_loss, 'discriminator_loss': d_loss}\n",
        "    except:\n",
        "      print('error')"
      ],
      "metadata": {
        "id": "De6c1BwF34vz"
      },
      "execution_count": 16,
      "outputs": []
    },
    {
      "cell_type": "code",
      "source": [
        "class Monitor(Callback):\n",
        "  def __init__(self, num_img, seed_dim):\n",
        "    super().__init__()\n",
        "    self.num_img = num_img\n",
        "    self.seed_dim = seed_dim\n",
        "\n",
        "  def on_epoch_end(self, epoch, logs=None):\n",
        "    random_seed = tf.random.uniform((self.num_img, self.seed_dim, 1))\n",
        "    generated_images = self.model.generator(random_seed)\n",
        "    generated_images *= 255 # turn it back to normal images\n",
        "    generated_images.numpy()\n",
        "    for i in range(self.num_img): # loop from index 0 to num_img-1\n",
        "      image = array_to_img(generated_images[i])\n",
        "      image.save(os.path.join('images', f'generated_images_{epoch}_{i}.png'))\n"
      ],
      "metadata": {
        "id": "wUE5P0nsfjYt"
      },
      "execution_count": 17,
      "outputs": []
    },
    {
      "cell_type": "code",
      "source": [
        "print(train_dataset)"
      ],
      "metadata": {
        "colab": {
          "base_uri": "https://localhost:8080/"
        },
        "id": "hz-LfxcV-ocz",
        "outputId": "24eb14e2-5b5d-4659-90fd-f0565ab58226"
      },
      "execution_count": 18,
      "outputs": [
        {
          "output_type": "stream",
          "name": "stdout",
          "text": [
            "<_PrefetchDataset element_spec=TensorSpec(shape=(None, 16, 16, 3), dtype=tf.float32, name=None)>\n"
          ]
        }
      ]
    },
    {
      "cell_type": "code",
      "source": [
        "model = MinecraftTextureGAN(build_generator(), build_discriminator(), 28)\n",
        "model.compile(BinaryCrossentropy(), BinaryCrossentropy(), Adam(learning_rate=0.001), Adam(learning_rate=0.0001))\n",
        "history = model.fit(x=train_dataset, epochs=50, callbacks=[Monitor(5, 128)])\n",
        "# history = model.fit(train_dataset, epochs=50)"
      ],
      "metadata": {
        "colab": {
          "base_uri": "https://localhost:8080/"
        },
        "id": "t6vpx1fvDsHU",
        "outputId": "37c6c4b9-8b81-4323-e2b5-7ca87452b026"
      },
      "execution_count": null,
      "outputs": [
        {
          "output_type": "stream",
          "name": "stdout",
          "text": [
            "Epoch 1/50\n",
            "917/917 [==============================] - 26s 20ms/step - generator_loss: 1.9464 - discriminator_loss: 0.3038\n",
            "Epoch 2/50\n",
            "917/917 [==============================] - 18s 20ms/step - generator_loss: 2.7300 - discriminator_loss: 0.2746\n",
            "Epoch 3/50\n",
            "917/917 [==============================] - 18s 20ms/step - generator_loss: 2.7133 - discriminator_loss: 0.2749\n",
            "Epoch 4/50\n",
            "917/917 [==============================] - 19s 20ms/step - generator_loss: 2.6617 - discriminator_loss: 0.2734\n",
            "Epoch 5/50\n",
            "917/917 [==============================] - 18s 19ms/step - generator_loss: 2.6525 - discriminator_loss: 0.2723\n",
            "Epoch 6/50\n",
            "917/917 [==============================] - 18s 19ms/step - generator_loss: 2.6278 - discriminator_loss: 0.2716\n",
            "Epoch 7/50\n",
            "917/917 [==============================] - 18s 19ms/step - generator_loss: 2.6321 - discriminator_loss: 0.2718\n",
            "Epoch 8/50\n",
            "917/917 [==============================] - 18s 19ms/step - generator_loss: 2.6203 - discriminator_loss: 0.2716\n",
            "Epoch 9/50\n",
            "917/917 [==============================] - 18s 19ms/step - generator_loss: 2.6248 - discriminator_loss: 0.2716\n",
            "Epoch 10/50\n",
            "917/917 [==============================] - 18s 19ms/step - generator_loss: 2.6210 - discriminator_loss: 0.2708\n",
            "Epoch 11/50\n",
            "917/917 [==============================] - 18s 19ms/step - generator_loss: 2.6130 - discriminator_loss: 0.2708\n",
            "Epoch 12/50\n",
            "917/917 [==============================] - 18s 19ms/step - generator_loss: 2.6355 - discriminator_loss: 0.2712\n",
            "Epoch 13/50\n",
            "917/917 [==============================] - 18s 19ms/step - generator_loss: 2.6284 - discriminator_loss: 0.2707\n",
            "Epoch 14/50\n",
            "917/917 [==============================] - 18s 20ms/step - generator_loss: 2.6179 - discriminator_loss: 0.2704\n",
            "Epoch 15/50\n",
            "917/917 [==============================] - 18s 19ms/step - generator_loss: 2.6230 - discriminator_loss: 0.2703\n",
            "Epoch 16/50\n",
            "917/917 [==============================] - 18s 19ms/step - generator_loss: 2.6214 - discriminator_loss: 0.2705\n",
            "Epoch 17/50\n",
            "917/917 [==============================] - 18s 19ms/step - generator_loss: 2.6106 - discriminator_loss: 0.2703\n",
            "Epoch 18/50\n",
            "917/917 [==============================] - 18s 19ms/step - generator_loss: 2.6252 - discriminator_loss: 0.2712\n",
            "Epoch 19/50\n",
            "917/917 [==============================] - 18s 19ms/step - generator_loss: 2.6290 - discriminator_loss: 0.2700\n",
            "Epoch 20/50\n",
            "917/917 [==============================] - 18s 19ms/step - generator_loss: 2.6202 - discriminator_loss: 0.2700\n",
            "Epoch 21/50\n",
            "917/917 [==============================] - 18s 19ms/step - generator_loss: 2.6283 - discriminator_loss: 0.2699\n",
            "Epoch 22/50\n",
            "917/917 [==============================] - 18s 19ms/step - generator_loss: 2.6211 - discriminator_loss: 0.2700\n",
            "Epoch 23/50\n",
            "917/917 [==============================] - 18s 19ms/step - generator_loss: 2.6274 - discriminator_loss: 0.2699\n",
            "Epoch 24/50\n",
            "917/917 [==============================] - 18s 19ms/step - generator_loss: 2.6196 - discriminator_loss: 0.2696\n",
            "Epoch 25/50\n",
            "917/917 [==============================] - 19s 21ms/step - generator_loss: 2.6187 - discriminator_loss: 0.2694\n",
            "Epoch 26/50\n",
            "917/917 [==============================] - 20s 21ms/step - generator_loss: 2.6130 - discriminator_loss: 0.2703\n",
            "Epoch 27/50\n",
            "917/917 [==============================] - 18s 20ms/step - generator_loss: 2.6144 - discriminator_loss: 0.2693\n",
            "Epoch 28/50\n",
            "917/917 [==============================] - 18s 19ms/step - generator_loss: 2.6110 - discriminator_loss: 0.2691\n",
            "Epoch 29/50\n",
            "917/917 [==============================] - 18s 20ms/step - generator_loss: 2.6205 - discriminator_loss: 0.2692\n",
            "Epoch 30/50\n",
            "917/917 [==============================] - 18s 20ms/step - generator_loss: 2.6186 - discriminator_loss: 0.2689\n",
            "Epoch 31/50\n",
            "917/917 [==============================] - 18s 20ms/step - generator_loss: 2.6187 - discriminator_loss: 0.2689\n",
            "Epoch 32/50\n",
            "917/917 [==============================] - 18s 20ms/step - generator_loss: 2.6105 - discriminator_loss: 0.2687\n",
            "Epoch 33/50\n",
            "917/917 [==============================] - 18s 20ms/step - generator_loss: 2.6183 - discriminator_loss: 0.2691\n",
            "Epoch 34/50\n",
            "917/917 [==============================] - 19s 20ms/step - generator_loss: 2.6101 - discriminator_loss: 0.2685\n",
            "Epoch 35/50\n",
            "917/917 [==============================] - 18s 20ms/step - generator_loss: 2.6094 - discriminator_loss: 0.2684\n",
            "Epoch 36/50\n",
            "917/917 [==============================] - 18s 20ms/step - generator_loss: 2.6159 - discriminator_loss: 0.2682\n",
            "Epoch 37/50\n",
            "917/917 [==============================] - 18s 20ms/step - generator_loss: 2.5996 - discriminator_loss: 0.2699\n",
            "Epoch 38/50\n",
            "917/917 [==============================] - 18s 20ms/step - generator_loss: 2.6251 - discriminator_loss: 0.2685\n",
            "Epoch 39/50\n",
            "917/917 [==============================] - 18s 20ms/step - generator_loss: 2.6078 - discriminator_loss: 0.2683\n",
            "Epoch 40/50\n",
            "917/917 [==============================] - 18s 20ms/step - generator_loss: 2.6152 - discriminator_loss: 0.2680\n",
            "Epoch 41/50\n",
            "917/917 [==============================] - 18s 19ms/step - generator_loss: 2.6142 - discriminator_loss: 0.2679\n",
            "Epoch 42/50\n",
            "917/917 [==============================] - 18s 20ms/step - generator_loss: 2.6058 - discriminator_loss: 0.2680\n",
            "Epoch 43/50\n",
            "917/917 [==============================] - 18s 20ms/step - generator_loss: 2.6148 - discriminator_loss: 0.2677\n",
            "Epoch 44/50\n",
            "917/917 [==============================] - 18s 20ms/step - generator_loss: 2.6334 - discriminator_loss: 0.2676\n",
            "Epoch 45/50\n",
            "917/917 [==============================] - 19s 20ms/step - generator_loss: 2.6131 - discriminator_loss: 0.2680\n",
            "Epoch 46/50\n",
            "917/917 [==============================] - 19s 20ms/step - generator_loss: 2.6222 - discriminator_loss: 0.2674\n",
            "Epoch 47/50\n",
            "472/917 [==============>...............] - ETA: 9s - generator_loss: 2.6142 - discriminator_loss: 0.2673"
          ]
        }
      ]
    }
  ]
}